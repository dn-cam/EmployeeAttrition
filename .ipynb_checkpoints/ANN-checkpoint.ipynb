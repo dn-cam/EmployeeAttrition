{
 "cells": [
  {
   "cell_type": "markdown",
   "metadata": {},
   "source": [
    "# ANN Model"
   ]
  },
  {
   "cell_type": "code",
   "execution_count": 3,
   "metadata": {},
   "outputs": [
    {
     "name": "stderr",
     "output_type": "stream",
     "text": [
      "Using TensorFlow backend.\n",
      "/Library/Frameworks/Python.framework/Versions/3.7/lib/python3.7/site-packages/tensorflow/python/framework/dtypes.py:526: FutureWarning: Passing (type, 1) or '1type' as a synonym of type is deprecated; in a future version of numpy, it will be understood as (type, (1,)) / '(1,)type'.\n",
      "  _np_qint8 = np.dtype([(\"qint8\", np.int8, 1)])\n",
      "/Library/Frameworks/Python.framework/Versions/3.7/lib/python3.7/site-packages/tensorflow/python/framework/dtypes.py:527: FutureWarning: Passing (type, 1) or '1type' as a synonym of type is deprecated; in a future version of numpy, it will be understood as (type, (1,)) / '(1,)type'.\n",
      "  _np_quint8 = np.dtype([(\"quint8\", np.uint8, 1)])\n",
      "/Library/Frameworks/Python.framework/Versions/3.7/lib/python3.7/site-packages/tensorflow/python/framework/dtypes.py:528: FutureWarning: Passing (type, 1) or '1type' as a synonym of type is deprecated; in a future version of numpy, it will be understood as (type, (1,)) / '(1,)type'.\n",
      "  _np_qint16 = np.dtype([(\"qint16\", np.int16, 1)])\n",
      "/Library/Frameworks/Python.framework/Versions/3.7/lib/python3.7/site-packages/tensorflow/python/framework/dtypes.py:529: FutureWarning: Passing (type, 1) or '1type' as a synonym of type is deprecated; in a future version of numpy, it will be understood as (type, (1,)) / '(1,)type'.\n",
      "  _np_quint16 = np.dtype([(\"quint16\", np.uint16, 1)])\n",
      "/Library/Frameworks/Python.framework/Versions/3.7/lib/python3.7/site-packages/tensorflow/python/framework/dtypes.py:530: FutureWarning: Passing (type, 1) or '1type' as a synonym of type is deprecated; in a future version of numpy, it will be understood as (type, (1,)) / '(1,)type'.\n",
      "  _np_qint32 = np.dtype([(\"qint32\", np.int32, 1)])\n",
      "/Library/Frameworks/Python.framework/Versions/3.7/lib/python3.7/site-packages/tensorflow/python/framework/dtypes.py:535: FutureWarning: Passing (type, 1) or '1type' as a synonym of type is deprecated; in a future version of numpy, it will be understood as (type, (1,)) / '(1,)type'.\n",
      "  np_resource = np.dtype([(\"resource\", np.ubyte, 1)])\n"
     ]
    }
   ],
   "source": [
    "import numpy as np\n",
    "import pandas as pd\n",
    "\n",
    "import matplotlib.pyplot as plt\n",
    "\n",
    "from sklearn.model_selection import train_test_split, cross_val_score\n",
    "from sklearn.ensemble import RandomForestClassifier, AdaBoostClassifier\n",
    "from sklearn.neighbors import KNeighborsClassifier\n",
    "from sklearn.preprocessing import LabelEncoder\n",
    "from sklearn.model_selection import train_test_split\n",
    "\n",
    "from keras.wrappers.scikit_learn import KerasClassifier\n",
    "from keras.models import Sequential\n",
    "from keras.layers import Dense, Dropout\n",
    "from keras.optimizers import Adam\n",
    "\n",
    "from sklearn.datasets import make_circles\n",
    "from sklearn.metrics import accuracy_score\n",
    "from sklearn.metrics import precision_score\n",
    "from sklearn.metrics import recall_score\n",
    "from sklearn.metrics import f1_score\n",
    "from sklearn.metrics import cohen_kappa_score\n",
    "from sklearn.metrics import roc_auc_score\n",
    "from sklearn.metrics import confusion_matrix\n",
    "from imblearn.over_sampling import SMOTE \n",
    "\n",
    "\n",
    "import warnings\n",
    "warnings.filterwarnings(\"ignore\")\n",
    "\n",
    "\n",
    "class Classification:\n",
    "    def __init__(self, smote=False):\n",
    "        self.smote = smote\n",
    "        self.data = self.readData()\n",
    "        self.attrition = None\n",
    "        self.model = None\n",
    "        self.dataCleaning()\n",
    "        self.preProcessing()\n",
    "        self.X_train, self.X_test, self.y_train, self.y_test = train_test_split(self.data, self.attrition, \n",
    "                                                                                test_size = 0.2)\n",
    "       \n",
    "        if self.smote:\n",
    "            sm = SMOTE(random_state = 2) \n",
    "            self.X_train, self.y_train = sm.fit_sample(self.X_train, self.y_train)\n",
    "        \n",
    "    def readData(self):\n",
    "        data = pd.read_csv('data/WA_Fn-UseC_-HR-Employee-Attrition.csv', encoding='utf-8-sig')\n",
    "        return data\n",
    "        \n",
    "    def dataCleaning(self):\n",
    "        #Drop columns irrelevant to our analysis\n",
    "        drop_columns = ['EmployeeCount','EmployeeNumber','Over18','StandardHours']\n",
    "        self.data = self.data.drop(drop_columns, axis=1)\n",
    "        \n",
    "        #drop_corr_columns=['Age','TotalWorkingYears','YearsAtCompany','NumCompaniesWorked']\n",
    "        #self.data = self.data.drop(drop_corr_columns, axis=1)\n",
    "\n",
    "        #Normalize the large income data for HourlyRate, DailyRate, MonthlyRate and MonthlyIncome\n",
    "        norm_col = ['HourlyRate','DailyRate','MonthlyRate','MonthlyIncome']\n",
    "        for col in norm_col:\n",
    "            self.data[col] = (self.data[col] - self.data[col].mean())/ self.data[col].std()\n",
    "            \n",
    "    def preProcessing(self):\n",
    "        #Convert categorical features to numerical features\n",
    "        le = LabelEncoder()\n",
    "        self.attrition = self.data['Attrition']\n",
    "        self.attrition = le.fit_transform(self.attrition)\n",
    "        self.data.drop('Attrition', axis=1, inplace=True)\n",
    "\n",
    "        cat_col = self.data.select_dtypes(include=['object']).columns.values\n",
    "        data_col = self.data[cat_col]\n",
    "        self.data.drop(cat_col, axis=1, inplace=True)\n",
    "\n",
    "        #One hot encode categorical data and combine dataframes\n",
    "        data_col = pd.get_dummies(data_col)\n",
    "        self.data = pd.concat([self.data, data_col], axis=1).values\n",
    "        \n",
    "    def buildANNModel(self):\n",
    "        cl = Sequential()\n",
    "        cl.add(Dense(20, activation='relu', kernel_initializer='random_normal',  input_shape=(self.data.shape[1],)))\n",
    "        cl.add(Dropout(0.1))\n",
    "        cl.add(Dense(10, activation='relu', kernel_initializer='random_normal',  input_shape=(self.data.shape[1],)))\n",
    "        cl.add(Dropout(0.1))\n",
    "        cl.add(Dense(5, activation='relu', kernel_initializer='random_normal',  input_shape=(self.data.shape[1],)))\n",
    "        cl.add(Dropout(0.1))\n",
    "        cl.add(Dense(1, activation='sigmoid', kernel_initializer='random_normal'))\n",
    "        adm = Adam()\n",
    "        cl.compile(optimizer=adm, loss='binary_crossentropy', metrics=['accuracy'])\n",
    "        return cl\n",
    "\n",
    "    def trainANNModel(self,epochs=10, batch_size=10, validation_split=0.33, verbose=0):\n",
    "        self.model = self.buildANNModel()\n",
    "        self.model.fit(self.X_train, self.y_train, validation_split=validation_split, epochs=epochs, batch_size=batch_size, verbose=verbose)\n",
    "        \n",
    "    def evaluateANNModel(self):\n",
    "        testy = self.y_test\n",
    "        testX = self.X_test\n",
    "        yhat_probs = self.model.predict(testX, verbose=0)\n",
    "        yhat_classes = self.model.predict_classes(testX, verbose=0)\n",
    "        yhat_probs = yhat_probs[:, 0]\n",
    "        yhat_classes = yhat_classes[:, 0]\n",
    "\n",
    "        accuracy = accuracy_score(testy, yhat_classes)\n",
    "        print('Accuracy: %f' % accuracy)\n",
    "        # precision tp / (tp + fp)\n",
    "        precision = precision_score(testy, yhat_classes)\n",
    "        print('Precision: %f' % precision)\n",
    "        # recall: tp / (tp + fn)\n",
    "        recall = recall_score(testy, yhat_classes)\n",
    "        print('Recall: %f' % recall)\n",
    "        # f1: 2 tp / (2 tp + fp + fn)\n",
    "        f1 = f1_score(testy, yhat_classes)\n",
    "        print('F1 score: %f' % f1)\n",
    "\n",
    "\n"
   ]
  },
  {
   "cell_type": "markdown",
   "metadata": {},
   "source": [
    "# SVM"
   ]
  },
  {
   "cell_type": "code",
   "execution_count": 2,
   "metadata": {},
   "outputs": [
    {
     "name": "stdout",
     "output_type": "stream",
     "text": [
      "Kernel Degree = 3\n",
      "Accuracy:  0.8231292517006803\n",
      "ROC AUC Score:  0.5\n"
     ]
    }
   ],
   "source": [
    "model = Classification()\n",
    "data = model.data\n",
    "\n",
    "from sklearn import svm\n",
    "from sklearn.metrics import auc,classification_report, roc_curve, roc_auc_score\n",
    "\n",
    "clf = svm.SVC()\n",
    "clf.fit(model.X_train, model.y_train)\n",
    "predicted = clf.predict(model.X_test)\n",
    "\n",
    "print('Kernel Degree = 3')\n",
    "# get the accuracy\n",
    "print('Accuracy: ',accuracy_score(model.y_test, predicted))\n",
    "print('ROC AUC Score: ', roc_auc_score(model.y_test, predicted))"
   ]
  },
  {
   "cell_type": "code",
   "execution_count": 3,
   "metadata": {},
   "outputs": [
    {
     "name": "stdout",
     "output_type": "stream",
     "text": [
      "Linear Kernel\n",
      "Accuracy:  0.8707482993197279\n",
      "ROC AUC Score:  0.672361729179911\n"
     ]
    }
   ],
   "source": [
    "clf = svm.SVC(kernel = 'linear')\n",
    "clf.fit(model.X_train, model.y_train)\n",
    "predicted = clf.predict(model.X_test)\n",
    "\n",
    "print('Linear Kernel')\n",
    "# get the accuracy\n",
    "print('Accuracy: ',accuracy_score(model.y_test, predicted))\n",
    "print('ROC AUC Score: ', roc_auc_score(model.y_test, predicted))"
   ]
  },
  {
   "cell_type": "code",
   "execution_count": 4,
   "metadata": {},
   "outputs": [
    {
     "name": "stdout",
     "output_type": "stream",
     "text": [
      "Poly Kernel: Degree 2\n",
      "Accuracy:  0.8231292517006803\n",
      "ROC AUC Score:  0.5\n"
     ]
    }
   ],
   "source": [
    "clf = svm.SVC(kernel = 'poly', degree=2)\n",
    "clf.fit(model.X_train, model.y_train)\n",
    "predicted = clf.predict(model.X_test)\n",
    "\n",
    "print('Poly Kernel: Degree 2')\n",
    "# get the accuracy\n",
    "print('Accuracy: ',accuracy_score(model.y_test, predicted))\n",
    "print('ROC AUC Score: ', roc_auc_score(model.y_test, predicted))"
   ]
  },
  {
   "cell_type": "code",
   "execution_count": 5,
   "metadata": {},
   "outputs": [
    {
     "name": "stdout",
     "output_type": "stream",
     "text": [
      "Sigmoid kernel\n",
      "Accuracy:  0.7687074829931972\n",
      "ROC AUC Score:  0.5348855689764781\n"
     ]
    }
   ],
   "source": [
    "clf = svm.SVC(kernel = 'sigmoid')\n",
    "clf.fit(model.X_train, model.y_train)\n",
    "predicted = clf.predict(model.X_test)\n",
    "\n",
    "print('Sigmoid kernel')\n",
    "# get the accuracy\n",
    "print('Accuracy: ',accuracy_score(model.y_test, predicted))\n",
    "print('ROC AUC Score: ', roc_auc_score(model.y_test, predicted))"
   ]
  },
  {
   "cell_type": "code",
   "execution_count": 12,
   "metadata": {},
   "outputs": [
    {
     "name": "stdout",
     "output_type": "stream",
     "text": [
      "Sigmoid kernel\n",
      "Accuracy:  0.8231292517006803\n",
      "ROC AUC Score:  0.5\n"
     ]
    }
   ],
   "source": [
    "clf = svm.SVC(kernel = 'poly', degree=4)\n",
    "clf.fit(model.X_train, model.y_train)\n",
    "predicted = clf.predict(model.X_test)\n",
    "\n",
    "print('Sigmoid kernel')\n",
    "# get the accuracy\n",
    "print('Accuracy: ',accuracy_score(model.y_test, predicted))\n",
    "print('ROC AUC Score: ', roc_auc_score(model.y_test, predicted))"
   ]
  },
  {
   "cell_type": "code",
   "execution_count": null,
   "metadata": {},
   "outputs": [],
   "source": [
    "clf = svm.SVC(kernel = 'poly', degree=4)\n",
    "clf.fit(model.X_train, model.y_train)\n",
    "predicted = clf.predict(model.X_test)\n",
    "\n",
    "print('Sigmoid kernel')\n",
    "# get the accuracy\n",
    "print('Accuracy: ',accuracy_score(model.y_test, predicted))\n",
    "print('ROC AUC Score: ', roc_auc_score(model.y_test, predicted))"
   ]
  },
  {
   "cell_type": "markdown",
   "metadata": {},
   "source": [
    "# XGBoost"
   ]
  },
  {
   "cell_type": "code",
   "execution_count": 5,
   "metadata": {},
   "outputs": [
    {
     "name": "stdout",
     "output_type": "stream",
     "text": [
      "Help on class GradientBoostingClassifier in module sklearn.ensemble._gb:\n",
      "\n",
      "class GradientBoostingClassifier(sklearn.base.ClassifierMixin, BaseGradientBoosting)\n",
      " |  GradientBoostingClassifier(*, loss='deviance', learning_rate=0.1, n_estimators=100, subsample=1.0, criterion='friedman_mse', min_samples_split=2, min_samples_leaf=1, min_weight_fraction_leaf=0.0, max_depth=3, min_impurity_decrease=0.0, min_impurity_split=None, init=None, random_state=None, max_features=None, verbose=0, max_leaf_nodes=None, warm_start=False, presort='deprecated', validation_fraction=0.1, n_iter_no_change=None, tol=0.0001, ccp_alpha=0.0)\n",
      " |  \n",
      " |  Gradient Boosting for classification.\n",
      " |  \n",
      " |  GB builds an additive model in a\n",
      " |  forward stage-wise fashion; it allows for the optimization of\n",
      " |  arbitrary differentiable loss functions. In each stage ``n_classes_``\n",
      " |  regression trees are fit on the negative gradient of the\n",
      " |  binomial or multinomial deviance loss function. Binary classification\n",
      " |  is a special case where only a single regression tree is induced.\n",
      " |  \n",
      " |  Read more in the :ref:`User Guide <gradient_boosting>`.\n",
      " |  \n",
      " |  Parameters\n",
      " |  ----------\n",
      " |  loss : {'deviance', 'exponential'}, default='deviance'\n",
      " |      loss function to be optimized. 'deviance' refers to\n",
      " |      deviance (= logistic regression) for classification\n",
      " |      with probabilistic outputs. For loss 'exponential' gradient\n",
      " |      boosting recovers the AdaBoost algorithm.\n",
      " |  \n",
      " |  learning_rate : float, default=0.1\n",
      " |      learning rate shrinks the contribution of each tree by `learning_rate`.\n",
      " |      There is a trade-off between learning_rate and n_estimators.\n",
      " |  \n",
      " |  n_estimators : int, default=100\n",
      " |      The number of boosting stages to perform. Gradient boosting\n",
      " |      is fairly robust to over-fitting so a large number usually\n",
      " |      results in better performance.\n",
      " |  \n",
      " |  subsample : float, default=1.0\n",
      " |      The fraction of samples to be used for fitting the individual base\n",
      " |      learners. If smaller than 1.0 this results in Stochastic Gradient\n",
      " |      Boosting. `subsample` interacts with the parameter `n_estimators`.\n",
      " |      Choosing `subsample < 1.0` leads to a reduction of variance\n",
      " |      and an increase in bias.\n",
      " |  \n",
      " |  criterion : {'friedman_mse', 'mse', 'mae'}, default='friedman_mse'\n",
      " |      The function to measure the quality of a split. Supported criteria\n",
      " |      are 'friedman_mse' for the mean squared error with improvement\n",
      " |      score by Friedman, 'mse' for mean squared error, and 'mae' for\n",
      " |      the mean absolute error. The default value of 'friedman_mse' is\n",
      " |      generally the best as it can provide a better approximation in\n",
      " |      some cases.\n",
      " |  \n",
      " |      .. versionadded:: 0.18\n",
      " |  \n",
      " |  min_samples_split : int or float, default=2\n",
      " |      The minimum number of samples required to split an internal node:\n",
      " |  \n",
      " |      - If int, then consider `min_samples_split` as the minimum number.\n",
      " |      - If float, then `min_samples_split` is a fraction and\n",
      " |        `ceil(min_samples_split * n_samples)` are the minimum\n",
      " |        number of samples for each split.\n",
      " |  \n",
      " |      .. versionchanged:: 0.18\n",
      " |         Added float values for fractions.\n",
      " |  \n",
      " |  min_samples_leaf : int or float, default=1\n",
      " |      The minimum number of samples required to be at a leaf node.\n",
      " |      A split point at any depth will only be considered if it leaves at\n",
      " |      least ``min_samples_leaf`` training samples in each of the left and\n",
      " |      right branches.  This may have the effect of smoothing the model,\n",
      " |      especially in regression.\n",
      " |  \n",
      " |      - If int, then consider `min_samples_leaf` as the minimum number.\n",
      " |      - If float, then `min_samples_leaf` is a fraction and\n",
      " |        `ceil(min_samples_leaf * n_samples)` are the minimum\n",
      " |        number of samples for each node.\n",
      " |  \n",
      " |      .. versionchanged:: 0.18\n",
      " |         Added float values for fractions.\n",
      " |  \n",
      " |  min_weight_fraction_leaf : float, default=0.0\n",
      " |      The minimum weighted fraction of the sum total of weights (of all\n",
      " |      the input samples) required to be at a leaf node. Samples have\n",
      " |      equal weight when sample_weight is not provided.\n",
      " |  \n",
      " |  max_depth : int, default=3\n",
      " |      maximum depth of the individual regression estimators. The maximum\n",
      " |      depth limits the number of nodes in the tree. Tune this parameter\n",
      " |      for best performance; the best value depends on the interaction\n",
      " |      of the input variables.\n",
      " |  \n",
      " |  min_impurity_decrease : float, default=0.0\n",
      " |      A node will be split if this split induces a decrease of the impurity\n",
      " |      greater than or equal to this value.\n",
      " |  \n",
      " |      The weighted impurity decrease equation is the following::\n",
      " |  \n",
      " |          N_t / N * (impurity - N_t_R / N_t * right_impurity\n",
      " |                              - N_t_L / N_t * left_impurity)\n",
      " |  \n",
      " |      where ``N`` is the total number of samples, ``N_t`` is the number of\n",
      " |      samples at the current node, ``N_t_L`` is the number of samples in the\n",
      " |      left child, and ``N_t_R`` is the number of samples in the right child.\n",
      " |  \n",
      " |      ``N``, ``N_t``, ``N_t_R`` and ``N_t_L`` all refer to the weighted sum,\n",
      " |      if ``sample_weight`` is passed.\n",
      " |  \n",
      " |      .. versionadded:: 0.19\n",
      " |  \n",
      " |  min_impurity_split : float, default=None\n",
      " |      Threshold for early stopping in tree growth. A node will split\n",
      " |      if its impurity is above the threshold, otherwise it is a leaf.\n",
      " |  \n",
      " |      .. deprecated:: 0.19\n",
      " |         ``min_impurity_split`` has been deprecated in favor of\n",
      " |         ``min_impurity_decrease`` in 0.19. The default value of\n",
      " |         ``min_impurity_split`` has changed from 1e-7 to 0 in 0.23 and it\n",
      " |         will be removed in 0.25. Use ``min_impurity_decrease`` instead.\n",
      " |  \n",
      " |  init : estimator or 'zero', default=None\n",
      " |      An estimator object that is used to compute the initial predictions.\n",
      " |      ``init`` has to provide :meth:`fit` and :meth:`predict_proba`. If\n",
      " |      'zero', the initial raw predictions are set to zero. By default, a\n",
      " |      ``DummyEstimator`` predicting the classes priors is used.\n",
      " |  \n",
      " |  random_state : int or RandomState, default=None\n",
      " |      Controls the random seed given to each Tree estimator at each\n",
      " |      boosting iteration.\n",
      " |      In addition, it controls the random permutation of the features at\n",
      " |      each split (see Notes for more details).\n",
      " |      It also controls the random spliting of the training data to obtain a\n",
      " |      validation set if `n_iter_no_change` is not None.\n",
      " |      Pass an int for reproducible output across multiple function calls.\n",
      " |      See :term:`Glossary <random_state>`.\n",
      " |  \n",
      " |  max_features : {'auto', 'sqrt', 'log2'}, int or float, default=None\n",
      " |      The number of features to consider when looking for the best split:\n",
      " |  \n",
      " |      - If int, then consider `max_features` features at each split.\n",
      " |      - If float, then `max_features` is a fraction and\n",
      " |        `int(max_features * n_features)` features are considered at each\n",
      " |        split.\n",
      " |      - If 'auto', then `max_features=sqrt(n_features)`.\n",
      " |      - If 'sqrt', then `max_features=sqrt(n_features)`.\n",
      " |      - If 'log2', then `max_features=log2(n_features)`.\n",
      " |      - If None, then `max_features=n_features`.\n",
      " |  \n",
      " |      Choosing `max_features < n_features` leads to a reduction of variance\n",
      " |      and an increase in bias.\n",
      " |  \n",
      " |      Note: the search for a split does not stop until at least one\n",
      " |      valid partition of the node samples is found, even if it requires to\n",
      " |      effectively inspect more than ``max_features`` features.\n",
      " |  \n",
      " |  verbose : int, default=0\n",
      " |      Enable verbose output. If 1 then it prints progress and performance\n",
      " |      once in a while (the more trees the lower the frequency). If greater\n",
      " |      than 1 then it prints progress and performance for every tree.\n",
      " |  \n",
      " |  max_leaf_nodes : int, default=None\n",
      " |      Grow trees with ``max_leaf_nodes`` in best-first fashion.\n",
      " |      Best nodes are defined as relative reduction in impurity.\n",
      " |      If None then unlimited number of leaf nodes.\n",
      " |  \n",
      " |  warm_start : bool, default=False\n",
      " |      When set to ``True``, reuse the solution of the previous call to fit\n",
      " |      and add more estimators to the ensemble, otherwise, just erase the\n",
      " |      previous solution. See :term:`the Glossary <warm_start>`.\n",
      " |  \n",
      " |  presort : deprecated, default='deprecated'\n",
      " |      This parameter is deprecated and will be removed in v0.24.\n",
      " |  \n",
      " |      .. deprecated :: 0.22\n",
      " |  \n",
      " |  validation_fraction : float, default=0.1\n",
      " |      The proportion of training data to set aside as validation set for\n",
      " |      early stopping. Must be between 0 and 1.\n",
      " |      Only used if ``n_iter_no_change`` is set to an integer.\n",
      " |  \n",
      " |      .. versionadded:: 0.20\n",
      " |  \n",
      " |  n_iter_no_change : int, default=None\n",
      " |      ``n_iter_no_change`` is used to decide if early stopping will be used\n",
      " |      to terminate training when validation score is not improving. By\n",
      " |      default it is set to None to disable early stopping. If set to a\n",
      " |      number, it will set aside ``validation_fraction`` size of the training\n",
      " |      data as validation and terminate training when validation score is not\n",
      " |      improving in all of the previous ``n_iter_no_change`` numbers of\n",
      " |      iterations. The split is stratified.\n",
      " |  \n",
      " |      .. versionadded:: 0.20\n",
      " |  \n",
      " |  tol : float, default=1e-4\n",
      " |      Tolerance for the early stopping. When the loss is not improving\n",
      " |      by at least tol for ``n_iter_no_change`` iterations (if set to a\n",
      " |      number), the training stops.\n",
      " |  \n",
      " |      .. versionadded:: 0.20\n",
      " |  \n",
      " |  ccp_alpha : non-negative float, default=0.0\n",
      " |      Complexity parameter used for Minimal Cost-Complexity Pruning. The\n",
      " |      subtree with the largest cost complexity that is smaller than\n",
      " |      ``ccp_alpha`` will be chosen. By default, no pruning is performed. See\n",
      " |      :ref:`minimal_cost_complexity_pruning` for details.\n",
      " |  \n",
      " |      .. versionadded:: 0.22\n",
      " |  \n",
      " |  Attributes\n",
      " |  ----------\n",
      " |  n_estimators_ : int\n",
      " |      The number of estimators as selected by early stopping (if\n",
      " |      ``n_iter_no_change`` is specified). Otherwise it is set to\n",
      " |      ``n_estimators``.\n",
      " |  \n",
      " |      .. versionadded:: 0.20\n",
      " |  \n",
      " |  feature_importances_ : ndarray of shape (n_features,)\n",
      " |      The impurity-based feature importances.\n",
      " |      The higher, the more important the feature.\n",
      " |      The importance of a feature is computed as the (normalized)\n",
      " |      total reduction of the criterion brought by that feature.  It is also\n",
      " |      known as the Gini importance.\n",
      " |  \n",
      " |      Warning: impurity-based feature importances can be misleading for\n",
      " |      high cardinality features (many unique values). See\n",
      " |      :func:`sklearn.inspection.permutation_importance` as an alternative.\n",
      " |  \n",
      " |  oob_improvement_ : ndarray of shape (n_estimators,)\n",
      " |      The improvement in loss (= deviance) on the out-of-bag samples\n",
      " |      relative to the previous iteration.\n",
      " |      ``oob_improvement_[0]`` is the improvement in\n",
      " |      loss of the first stage over the ``init`` estimator.\n",
      " |      Only available if ``subsample < 1.0``\n",
      " |  \n",
      " |  train_score_ : ndarray of shape (n_estimators,)\n",
      " |      The i-th score ``train_score_[i]`` is the deviance (= loss) of the\n",
      " |      model at iteration ``i`` on the in-bag sample.\n",
      " |      If ``subsample == 1`` this is the deviance on the training data.\n",
      " |  \n",
      " |  loss_ : LossFunction\n",
      " |      The concrete ``LossFunction`` object.\n",
      " |  \n",
      " |  init_ : estimator\n",
      " |      The estimator that provides the initial predictions.\n",
      " |      Set via the ``init`` argument or ``loss.init_estimator``.\n",
      " |  \n",
      " |  estimators_ : ndarray of DecisionTreeRegressor of shape (n_estimators, ``loss_.K``)\n",
      " |      The collection of fitted sub-estimators. ``loss_.K`` is 1 for binary\n",
      " |      classification, otherwise n_classes.\n",
      " |  \n",
      " |  classes_ : ndarray of shape (n_classes,)\n",
      " |      The classes labels.\n",
      " |  \n",
      " |  n_features_ : int\n",
      " |      The number of data features.\n",
      " |  \n",
      " |  n_classes_ : int\n",
      " |      The number of classes.\n",
      " |  \n",
      " |  max_features_ : int\n",
      " |      The inferred value of max_features.\n",
      " |  \n",
      " |  Notes\n",
      " |  -----\n",
      " |  The features are always randomly permuted at each split. Therefore,\n",
      " |  the best found split may vary, even with the same training data and\n",
      " |  ``max_features=n_features``, if the improvement of the criterion is\n",
      " |  identical for several splits enumerated during the search of the best\n",
      " |  split. To obtain a deterministic behaviour during fitting,\n",
      " |  ``random_state`` has to be fixed.\n",
      " |  \n",
      " |  Examples\n",
      " |  --------\n",
      " |  >>> from sklearn.datasets import make_classification\n",
      " |  >>> from sklearn.ensemble import GradientBoostingClassifier\n",
      " |  >>> from sklearn.model_selection import train_test_split\n",
      " |  >>> X, y = make_classification(random_state=0)\n",
      " |  >>> X_train, X_test, y_train, y_test = train_test_split(\n",
      " |  ...     X, y, random_state=0)\n",
      " |  >>> clf = GradientBoostingClassifier(random_state=0)\n",
      " |  >>> clf.fit(X_train, y_train)\n",
      " |  GradientBoostingClassifier(random_state=0)\n",
      " |  >>> clf.predict(X_test[:2])\n",
      " |  array([1, 0])\n",
      " |  >>> clf.score(X_test, y_test)\n",
      " |  0.88\n",
      " |  \n",
      " |  See also\n",
      " |  --------\n",
      " |  sklearn.ensemble.HistGradientBoostingClassifier,\n",
      " |  sklearn.tree.DecisionTreeClassifier, RandomForestClassifier\n",
      " |  AdaBoostClassifier\n",
      " |  \n",
      " |  References\n",
      " |  ----------\n",
      " |  J. Friedman, Greedy Function Approximation: A Gradient Boosting\n",
      " |  Machine, The Annals of Statistics, Vol. 29, No. 5, 2001.\n",
      " |  \n",
      " |  J. Friedman, Stochastic Gradient Boosting, 1999\n",
      " |  \n",
      " |  T. Hastie, R. Tibshirani and J. Friedman.\n",
      " |  Elements of Statistical Learning Ed. 2, Springer, 2009.\n",
      " |  \n",
      " |  Method resolution order:\n",
      " |      GradientBoostingClassifier\n",
      " |      sklearn.base.ClassifierMixin\n",
      " |      BaseGradientBoosting\n",
      " |      sklearn.ensemble._base.BaseEnsemble\n",
      " |      sklearn.base.MetaEstimatorMixin\n",
      " |      sklearn.base.BaseEstimator\n",
      " |      builtins.object\n",
      " |  \n",
      " |  Methods defined here:\n",
      " |  \n",
      " |  __init__(self, *, loss='deviance', learning_rate=0.1, n_estimators=100, subsample=1.0, criterion='friedman_mse', min_samples_split=2, min_samples_leaf=1, min_weight_fraction_leaf=0.0, max_depth=3, min_impurity_decrease=0.0, min_impurity_split=None, init=None, random_state=None, max_features=None, verbose=0, max_leaf_nodes=None, warm_start=False, presort='deprecated', validation_fraction=0.1, n_iter_no_change=None, tol=0.0001, ccp_alpha=0.0)\n",
      " |      Initialize self.  See help(type(self)) for accurate signature.\n",
      " |  \n",
      " |  decision_function(self, X)\n",
      " |      Compute the decision function of ``X``.\n",
      " |      \n",
      " |      Parameters\n",
      " |      ----------\n",
      " |      X : {array-like, sparse matrix} of shape (n_samples, n_features)\n",
      " |          The input samples. Internally, it will be converted to\n",
      " |          ``dtype=np.float32`` and if a sparse matrix is provided\n",
      " |          to a sparse ``csr_matrix``.\n",
      " |      \n",
      " |      Returns\n",
      " |      -------\n",
      " |      score : ndarray of shape (n_samples, n_classes) or (n_samples,)\n",
      " |          The decision function of the input samples, which corresponds to\n",
      " |          the raw values predicted from the trees of the ensemble . The\n",
      " |          order of the classes corresponds to that in the attribute\n",
      " |          :term:`classes_`. Regression and binary classification produce an\n",
      " |          array of shape [n_samples].\n",
      " |  \n",
      " |  predict(self, X)\n",
      " |      Predict class for X.\n",
      " |      \n",
      " |      Parameters\n",
      " |      ----------\n",
      " |      X : {array-like, sparse matrix} of shape (n_samples, n_features)\n",
      " |          The input samples. Internally, it will be converted to\n",
      " |          ``dtype=np.float32`` and if a sparse matrix is provided\n",
      " |          to a sparse ``csr_matrix``.\n",
      " |      \n",
      " |      Returns\n",
      " |      -------\n",
      " |      y : ndarray of shape (n_samples,)\n",
      " |          The predicted values.\n",
      " |  \n",
      " |  predict_log_proba(self, X)\n",
      " |      Predict class log-probabilities for X.\n",
      " |      \n",
      " |      Parameters\n",
      " |      ----------\n",
      " |      X : {array-like, sparse matrix} of shape (n_samples, n_features)\n",
      " |          The input samples. Internally, it will be converted to\n",
      " |          ``dtype=np.float32`` and if a sparse matrix is provided\n",
      " |          to a sparse ``csr_matrix``.\n",
      " |      \n",
      " |      Raises\n",
      " |      ------\n",
      " |      AttributeError\n",
      " |          If the ``loss`` does not support probabilities.\n",
      " |      \n",
      " |      Returns\n",
      " |      -------\n",
      " |      p : ndarray of shape (n_samples, n_classes)\n",
      " |          The class log-probabilities of the input samples. The order of the\n",
      " |          classes corresponds to that in the attribute :term:`classes_`.\n",
      " |  \n",
      " |  predict_proba(self, X)\n",
      " |      Predict class probabilities for X.\n",
      " |      \n",
      " |      Parameters\n",
      " |      ----------\n",
      " |      X : {array-like, sparse matrix} of shape (n_samples, n_features)\n",
      " |          The input samples. Internally, it will be converted to\n",
      " |          ``dtype=np.float32`` and if a sparse matrix is provided\n",
      " |          to a sparse ``csr_matrix``.\n",
      " |      \n",
      " |      Raises\n",
      " |      ------\n",
      " |      AttributeError\n",
      " |          If the ``loss`` does not support probabilities.\n",
      " |      \n",
      " |      Returns\n",
      " |      -------\n",
      " |      p : ndarray of shape (n_samples, n_classes)\n",
      " |          The class probabilities of the input samples. The order of the\n",
      " |          classes corresponds to that in the attribute :term:`classes_`.\n",
      " |  \n",
      " |  staged_decision_function(self, X)\n",
      " |      Compute decision function of ``X`` for each iteration.\n",
      " |      \n",
      " |      This method allows monitoring (i.e. determine error on testing set)\n",
      " |      after each stage.\n",
      " |      \n",
      " |      Parameters\n",
      " |      ----------\n",
      " |      X : {array-like, sparse matrix} of shape (n_samples, n_features)\n",
      " |          The input samples. Internally, it will be converted to\n",
      " |          ``dtype=np.float32`` and if a sparse matrix is provided\n",
      " |          to a sparse ``csr_matrix``.\n",
      " |      \n",
      " |      Returns\n",
      " |      -------\n",
      " |      score : generator of ndarray of shape (n_samples, k)\n",
      " |          The decision function of the input samples, which corresponds to\n",
      " |          the raw values predicted from the trees of the ensemble . The\n",
      " |          classes corresponds to that in the attribute :term:`classes_`.\n",
      " |          Regression and binary classification are special cases with\n",
      " |          ``k == 1``, otherwise ``k==n_classes``.\n",
      " |  \n",
      " |  staged_predict(self, X)\n",
      " |      Predict class at each stage for X.\n",
      " |      \n",
      " |      This method allows monitoring (i.e. determine error on testing set)\n",
      " |      after each stage.\n",
      " |      \n",
      " |      Parameters\n",
      " |      ----------\n",
      " |      X : {array-like, sparse matrix} of shape (n_samples, n_features)\n",
      " |          The input samples. Internally, it will be converted to\n",
      " |          ``dtype=np.float32`` and if a sparse matrix is provided\n",
      " |          to a sparse ``csr_matrix``.\n",
      " |      \n",
      " |      Returns\n",
      " |      -------\n",
      " |      y : generator of ndarray of shape (n_samples,)\n",
      " |          The predicted value of the input samples.\n",
      " |  \n",
      " |  staged_predict_proba(self, X)\n",
      " |      Predict class probabilities at each stage for X.\n",
      " |      \n",
      " |      This method allows monitoring (i.e. determine error on testing set)\n",
      " |      after each stage.\n",
      " |      \n",
      " |      Parameters\n",
      " |      ----------\n",
      " |      X : {array-like, sparse matrix} of shape (n_samples, n_features)\n",
      " |          The input samples. Internally, it will be converted to\n",
      " |          ``dtype=np.float32`` and if a sparse matrix is provided\n",
      " |          to a sparse ``csr_matrix``.\n",
      " |      \n",
      " |      Returns\n",
      " |      -------\n",
      " |      y : generator of ndarray of shape (n_samples,)\n",
      " |          The predicted value of the input samples.\n",
      " |  \n",
      " |  ----------------------------------------------------------------------\n",
      " |  Data and other attributes defined here:\n",
      " |  \n",
      " |  __abstractmethods__ = frozenset()\n",
      " |  \n",
      " |  ----------------------------------------------------------------------\n",
      " |  Methods inherited from sklearn.base.ClassifierMixin:\n",
      " |  \n",
      " |  score(self, X, y, sample_weight=None)\n",
      " |      Return the mean accuracy on the given test data and labels.\n",
      " |      \n",
      " |      In multi-label classification, this is the subset accuracy\n",
      " |      which is a harsh metric since you require for each sample that\n",
      " |      each label set be correctly predicted.\n",
      " |      \n",
      " |      Parameters\n",
      " |      ----------\n",
      " |      X : array-like of shape (n_samples, n_features)\n",
      " |          Test samples.\n",
      " |      \n",
      " |      y : array-like of shape (n_samples,) or (n_samples, n_outputs)\n",
      " |          True labels for X.\n",
      " |      \n",
      " |      sample_weight : array-like of shape (n_samples,), default=None\n",
      " |          Sample weights.\n",
      " |      \n",
      " |      Returns\n",
      " |      -------\n",
      " |      score : float\n",
      " |          Mean accuracy of self.predict(X) wrt. y.\n",
      " |  \n",
      " |  ----------------------------------------------------------------------\n",
      " |  Data descriptors inherited from sklearn.base.ClassifierMixin:\n",
      " |  \n",
      " |  __dict__\n",
      " |      dictionary for instance variables (if defined)\n",
      " |  \n",
      " |  __weakref__\n",
      " |      list of weak references to the object (if defined)\n",
      " |  \n",
      " |  ----------------------------------------------------------------------\n",
      " |  Methods inherited from BaseGradientBoosting:\n",
      " |  \n",
      " |  apply(self, X)\n",
      " |      Apply trees in the ensemble to X, return leaf indices.\n",
      " |      \n",
      " |      .. versionadded:: 0.17\n",
      " |      \n",
      " |      Parameters\n",
      " |      ----------\n",
      " |      X : {array-like, sparse matrix} of shape (n_samples, n_features)\n",
      " |          The input samples. Internally, its dtype will be converted to\n",
      " |          ``dtype=np.float32``. If a sparse matrix is provided, it will\n",
      " |          be converted to a sparse ``csr_matrix``.\n",
      " |      \n",
      " |      Returns\n",
      " |      -------\n",
      " |      X_leaves : array-like of shape (n_samples, n_estimators, n_classes)\n",
      " |          For each datapoint x in X and for each tree in the ensemble,\n",
      " |          return the index of the leaf x ends up in each estimator.\n",
      " |          In the case of binary classification n_classes is 1.\n",
      " |  \n",
      " |  fit(self, X, y, sample_weight=None, monitor=None)\n",
      " |      Fit the gradient boosting model.\n",
      " |      \n",
      " |      Parameters\n",
      " |      ----------\n",
      " |      X : {array-like, sparse matrix} of shape (n_samples, n_features)\n",
      " |          The input samples. Internally, it will be converted to\n",
      " |          ``dtype=np.float32`` and if a sparse matrix is provided\n",
      " |          to a sparse ``csr_matrix``.\n",
      " |      \n",
      " |      y : array-like of shape (n_samples,)\n",
      " |          Target values (strings or integers in classification, real numbers\n",
      " |          in regression)\n",
      " |          For classification, labels must correspond to classes.\n",
      " |      \n",
      " |      sample_weight : array-like of shape (n_samples,), default=None\n",
      " |          Sample weights. If None, then samples are equally weighted. Splits\n",
      " |          that would create child nodes with net zero or negative weight are\n",
      " |          ignored while searching for a split in each node. In the case of\n",
      " |          classification, splits are also ignored if they would result in any\n",
      " |          single class carrying a negative weight in either child node.\n",
      " |      \n",
      " |      monitor : callable, default=None\n",
      " |          The monitor is called after each iteration with the current\n",
      " |          iteration, a reference to the estimator and the local variables of\n",
      " |          ``_fit_stages`` as keyword arguments ``callable(i, self,\n",
      " |          locals())``. If the callable returns ``True`` the fitting procedure\n",
      " |          is stopped. The monitor can be used for various things such as\n",
      " |          computing held-out estimates, early stopping, model introspect, and\n",
      " |          snapshoting.\n",
      " |      \n",
      " |      Returns\n",
      " |      -------\n",
      " |      self : object\n",
      " |  \n",
      " |  ----------------------------------------------------------------------\n",
      " |  Data descriptors inherited from BaseGradientBoosting:\n",
      " |  \n",
      " |  feature_importances_\n",
      " |      The impurity-based feature importances.\n",
      " |      \n",
      " |      The higher, the more important the feature.\n",
      " |      The importance of a feature is computed as the (normalized)\n",
      " |      total reduction of the criterion brought by that feature.  It is also\n",
      " |      known as the Gini importance.\n",
      " |      \n",
      " |      Warning: impurity-based feature importances can be misleading for\n",
      " |      high cardinality features (many unique values). See\n",
      " |      :func:`sklearn.inspection.permutation_importance` as an alternative.\n",
      " |      \n",
      " |      Returns\n",
      " |      -------\n",
      " |      feature_importances_ : array, shape (n_features,)\n",
      " |          The values of this array sum to 1, unless all trees are single node\n",
      " |          trees consisting of only the root node, in which case it will be an\n",
      " |          array of zeros.\n",
      " |  \n",
      " |  ----------------------------------------------------------------------\n",
      " |  Methods inherited from sklearn.ensemble._base.BaseEnsemble:\n",
      " |  \n",
      " |  __getitem__(self, index)\n",
      " |      Return the index'th estimator in the ensemble.\n",
      " |  \n",
      " |  __iter__(self)\n",
      " |      Return iterator over estimators in the ensemble.\n",
      " |  \n",
      " |  __len__(self)\n",
      " |      Return the number of estimators in the ensemble.\n",
      " |  \n",
      " |  ----------------------------------------------------------------------\n",
      " |  Data and other attributes inherited from sklearn.ensemble._base.BaseEnsemble:\n",
      " |  \n",
      " |  __annotations__ = {'_required_parameters': typing.List[str]}\n",
      " |  \n",
      " |  ----------------------------------------------------------------------\n",
      " |  Methods inherited from sklearn.base.BaseEstimator:\n",
      " |  \n",
      " |  __getstate__(self)\n",
      " |  \n",
      " |  __repr__(self, N_CHAR_MAX=700)\n",
      " |      Return repr(self).\n",
      " |  \n",
      " |  __setstate__(self, state)\n",
      " |  \n",
      " |  get_params(self, deep=True)\n",
      " |      Get parameters for this estimator.\n",
      " |      \n",
      " |      Parameters\n",
      " |      ----------\n",
      " |      deep : bool, default=True\n",
      " |          If True, will return the parameters for this estimator and\n",
      " |          contained subobjects that are estimators.\n",
      " |      \n",
      " |      Returns\n",
      " |      -------\n",
      " |      params : mapping of string to any\n",
      " |          Parameter names mapped to their values.\n",
      " |  \n",
      " |  set_params(self, **params)\n",
      " |      Set the parameters of this estimator.\n",
      " |      \n",
      " |      The method works on simple estimators as well as on nested objects\n",
      " |      (such as pipelines). The latter have parameters of the form\n",
      " |      ``<component>__<parameter>`` so that it's possible to update each\n",
      " |      component of a nested object.\n",
      " |      \n",
      " |      Parameters\n",
      " |      ----------\n",
      " |      **params : dict\n",
      " |          Estimator parameters.\n",
      " |      \n",
      " |      Returns\n",
      " |      -------\n",
      " |      self : object\n",
      " |          Estimator instance.\n",
      "\n"
     ]
    }
   ],
   "source": [
    "help(GradientBoostingClassifier)"
   ]
  },
  {
   "cell_type": "code",
   "execution_count": 6,
   "metadata": {},
   "outputs": [
    {
     "name": "stdout",
     "output_type": "stream",
     "text": [
      "Accuracy:  0.8775510204081632\n",
      "ROC AUC Score:  0.6564545454545454\n"
     ]
    }
   ],
   "source": [
    "model = Classification()\n",
    "#max_depth = default 3\n",
    "# loss = default: deviance , adaboost : exponential\n",
    "# learning_rate : default = 0.1\n",
    "\n",
    "gb_params ={\n",
    "    'n_estimators': 1500,\n",
    "    'max_features': 0.9,\n",
    "    'learning_rate' : 0.01,\n",
    "    'max_depth': 4,\n",
    "    'min_samples_leaf': 2,\n",
    "    'subsample': 1,\n",
    "    'max_features' : 'sqrt',\n",
    "    'verbose': 0\n",
    "}\n",
    "\n",
    "from sklearn.ensemble import GradientBoostingClassifier\n",
    "clf = GradientBoostingClassifier(**gb_params)\n",
    "clf.fit(model.X_train, model.y_train)\n",
    "predicted = clf.predict(model.X_test)\n",
    "\n",
    "print('Accuracy: ',accuracy_score(model.y_test, predicted))\n",
    "print('ROC AUC Score: ', roc_auc_score(model.y_test, predicted))"
   ]
  },
  {
   "cell_type": "code",
   "execution_count": 7,
   "metadata": {},
   "outputs": [
    {
     "name": "stdout",
     "output_type": "stream",
     "text": [
      "Accuracy:  0.8775510204081632\n",
      "ROC AUC Score:  0.6529628330995793\n"
     ]
    }
   ],
   "source": [
    "model = Classification()\n",
    "#max_depth = default 3\n",
    "# loss = default: deviance , adaboost : exponential\n",
    "# learning_rate : default = 0.1\n",
    "\n",
    "gb_params ={\n",
    "    'n_estimators': 1500,\n",
    "    'loss':'exponential',\n",
    "    'max_features': 0.9,\n",
    "    'learning_rate' : 0.01,\n",
    "    'max_depth': 4,\n",
    "    'min_samples_leaf': 2,\n",
    "    'subsample': 1,\n",
    "    'max_features' : 'sqrt',\n",
    "    'verbose': 0\n",
    "}\n",
    "\n",
    "from sklearn.ensemble import GradientBoostingClassifier\n",
    "clf = GradientBoostingClassifier(**gb_params)\n",
    "clf.fit(model.X_train, model.y_train)\n",
    "predicted = clf.predict(model.X_test)\n",
    "\n",
    "print('Accuracy: ',accuracy_score(model.y_test, predicted))\n",
    "print('ROC AUC Score: ', roc_auc_score(model.y_test, predicted))"
   ]
  },
  {
   "cell_type": "markdown",
   "metadata": {},
   "source": [
    "# Tree"
   ]
  },
  {
   "cell_type": "code",
   "execution_count": 6,
   "metadata": {},
   "outputs": [],
   "source": [
    "import pydot"
   ]
  },
  {
   "cell_type": "code",
   "execution_count": 10,
   "metadata": {},
   "outputs": [],
   "source": [
    "import pandas as pd\n",
    "import numpy as np\n",
    "\n",
    "attrition = pd.read_csv('data/WA_Fn-UseC_-HR-Employee-Attrition.csv')\n",
    "\n",
    "# Define a dictionary for the target mapping\n",
    "target_map = {'Yes':1, 'No':0}\n",
    "# Use the pandas apply method to numerically encode our attrition target variable\n",
    "attrition[\"Attrition_numerical\"] = attrition[\"Attrition\"].apply(lambda x: target_map[x])\n",
    "\n",
    "numerical = [u'Age', u'DailyRate',  u'JobSatisfaction',\n",
    "       u'MonthlyIncome', u'PerformanceRating',\n",
    "        u'WorkLifeBalance', u'YearsAtCompany', u'Attrition_numerical']\n",
    "\n",
    "attrition = attrition.drop(['Attrition_numerical'], axis=1)\n",
    "\n",
    "# Empty list to store columns with categorical data\n",
    "categorical = []\n",
    "for col, value in attrition.iteritems():\n",
    "    if value.dtype == 'object':\n",
    "        categorical.append(col)\n",
    "\n",
    "# Store the numerical columns in a list numerical\n",
    "numerical = attrition.columns.difference(categorical)\n",
    "\n",
    "attrition_cat = attrition[categorical]\n",
    "attrition_cat = attrition_cat.drop(['Attrition'], axis=1)\n",
    "attrition_cat = pd.get_dummies(attrition_cat)\n",
    "\n",
    "attrition_num = attrition[numerical]\n",
    "\n",
    "attrition_final = pd.concat([attrition_num, attrition_cat], axis=1)\n",
    "\n",
    "\n",
    "# Import the train_test_split method\n",
    "from sklearn.model_selection import train_test_split\n",
    "from sklearn.model_selection import StratifiedShuffleSplit\n",
    "\n",
    "\n",
    "target_map = {'Yes':1, 'No':0}\n",
    "# Use the pandas apply method to numerically encode our attrition target variable\n",
    "target = attrition[\"Attrition\"].apply(lambda x: target_map[x])\n",
    "\n",
    "# Split data into train and test sets as well as for validation and testing\n",
    "train, test, target_train, target_val = train_test_split(attrition_final, \n",
    "                                                         target, \n",
    "                                                         train_size= 0.80,\n",
    "                                                         random_state=0);\n",
    "\n",
    "\n",
    "from sklearn import tree\n",
    "from IPython.display import Image as PImage\n",
    "from subprocess import check_call\n",
    "from PIL import Image, ImageDraw, ImageFont\n",
    "import re\n",
    "\n",
    "decision_tree = tree.DecisionTreeClassifier(max_depth = 4)\n",
    "decision_tree.fit(train, target_train)\n",
    "\n",
    "# Predicting results for test dataset\n",
    "y_pred = decision_tree.predict(test)\n",
    "\n",
    "# Export our trained model as a .dot file\n",
    "with open(\"tree1.dot\", 'w') as f:\n",
    "     f = tree.export_graphviz(decision_tree,\n",
    "                              out_file=f,\n",
    "                              max_depth = 4,\n",
    "                              impurity = False,\n",
    "                              feature_names = attrition_final.columns.values,\n",
    "                              class_names = ['No', 'Yes'],\n",
    "                              rounded = True,\n",
    "                              filled= True )\n",
    "\n",
    "\n",
    "        "
   ]
  },
  {
   "cell_type": "code",
   "execution_count": 13,
   "metadata": {},
   "outputs": [],
   "source": [
    "import pydot\n",
    "\n",
    "(graph,) = pydot.graph_from_dot_file('tree1.dot')\n"
   ]
  },
  {
   "cell_type": "code",
   "execution_count": 14,
   "metadata": {},
   "outputs": [
    {
     "data": {
      "text/plain": [
       "<pydot.Dot at 0x118da3278>"
      ]
     },
     "execution_count": 14,
     "metadata": {},
     "output_type": "execute_result"
    }
   ],
   "source": [
    "graph"
   ]
  },
  {
   "cell_type": "code",
   "execution_count": 16,
   "metadata": {},
   "outputs": [
    {
     "name": "stdout",
     "output_type": "stream",
     "text": [
      "digraph Tree {\n",
      "node [color=\"black\", fontname=helvetica, shape=box, style=\"filled, rounded\"];\n",
      "edge [fontname=helvetica];\n",
      "0 [fillcolor=\"#ea995f\", label=\"TotalWorkingYears <= 1.5\\nsamples = 1176\\nvalue = [988, 188]\\nclass = No\"];\n",
      "1 [fillcolor=\"#ffffff\", label=\"MaritalStatus_Single <= 0.5\\nsamples = 78\\nvalue = [39, 39]\\nclass = No\"];\n",
      "0 -> 1  [headlabel=\"True\", labelangle=45, labeldistance=\"2.5\"];\n",
      "2 [fillcolor=\"#f1b991\", label=\"DistanceFromHome <= 16.5\\nsamples = 39\\nvalue = [27, 12]\\nclass = No\"];\n",
      "1 -> 2;\n",
      "3 [fillcolor=\"#eb9f69\", label=\"BusinessTravel_Travel_Frequently <= 0.5\\nsamples = 31\\nvalue = [25, 6]\\nclass = No\"];\n",
      "2 -> 3;\n",
      "4 [fillcolor=\"#e89152\", label=\"samples = 27\\nvalue = [24, 3]\\nclass = No\"];\n",
      "3 -> 4;\n",
      "5 [fillcolor=\"#7bbeee\", label=\"samples = 4\\nvalue = [1, 3]\\nclass = Yes\"];\n",
      "3 -> 5;\n",
      "6 [fillcolor=\"#7bbeee\", label=\"EmployeeNumber <= 797.5\\nsamples = 8\\nvalue = [2, 6]\\nclass = Yes\"];\n",
      "2 -> 6;\n",
      "7 [fillcolor=\"#e58139\", label=\"samples = 2\\nvalue = [2, 0]\\nclass = No\"];\n",
      "6 -> 7;\n",
      "8 [fillcolor=\"#399de5\", label=\"samples = 6\\nvalue = [0, 6]\\nclass = Yes\"];\n",
      "6 -> 8;\n",
      "9 [fillcolor=\"#91c9f1\", label=\"JobRole_Research Scientist <= 0.5\\nsamples = 39\\nvalue = [12, 27]\\nclass = Yes\"];\n",
      "1 -> 9;\n",
      "10 [fillcolor=\"#5dafea\", label=\"EducationField_Medical <= 0.5\\nsamples = 26\\nvalue = [4, 22]\\nclass = Yes\"];\n",
      "9 -> 10;\n",
      "11 [fillcolor=\"#43a2e6\", label=\"samples = 20\\nvalue = [1, 19]\\nclass = Yes\"];\n",
      "10 -> 11;\n",
      "12 [fillcolor=\"#ffffff\", label=\"samples = 6\\nvalue = [3, 3]\\nclass = No\"];\n",
      "10 -> 12;\n",
      "13 [fillcolor=\"#f5d0b5\", label=\"RelationshipSatisfaction <= 1.5\\nsamples = 13\\nvalue = [8, 5]\\nclass = No\"];\n",
      "9 -> 13;\n",
      "14 [fillcolor=\"#399de5\", label=\"samples = 3\\nvalue = [0, 3]\\nclass = Yes\"];\n",
      "13 -> 14;\n",
      "15 [fillcolor=\"#eca06a\", label=\"samples = 10\\nvalue = [8, 2]\\nclass = No\"];\n",
      "13 -> 15;\n",
      "16 [fillcolor=\"#e99558\", label=\"OverTime_Yes <= 0.5\\nsamples = 1098\\nvalue = [949, 149]\\nclass = No\"];\n",
      "0 -> 16  [headlabel=\"False\", labelangle=\"-45\", labeldistance=\"2.5\"];\n",
      "17 [fillcolor=\"#e88d4c\", label=\"WorkLifeBalance <= 1.5\\nsamples = 798\\nvalue = [727, 71]\\nclass = No\"];\n",
      "16 -> 17;\n",
      "18 [fillcolor=\"#eeac7d\", label=\"EmployeeNumber <= 921.0\\nsamples = 47\\nvalue = [35, 12]\\nclass = No\"];\n",
      "17 -> 18;\n",
      "19 [fillcolor=\"#e68844\", label=\"samples = 19\\nvalue = [18, 1]\\nclass = No\"];\n",
      "18 -> 19;\n",
      "20 [fillcolor=\"#f6d3b9\", label=\"samples = 28\\nvalue = [17, 11]\\nclass = No\"];\n",
      "18 -> 20;\n",
      "21 [fillcolor=\"#e78c4a\", label=\"YearsAtCompany <= 38.5\\nsamples = 751\\nvalue = [692, 59]\\nclass = No\"];\n",
      "17 -> 21;\n",
      "22 [fillcolor=\"#e78c4a\", label=\"samples = 750\\nvalue = [692, 58]\\nclass = No\"];\n",
      "21 -> 22;\n",
      "23 [fillcolor=\"#399de5\", label=\"samples = 1\\nvalue = [0, 1]\\nclass = Yes\"];\n",
      "21 -> 23;\n",
      "24 [fillcolor=\"#eead7f\", label=\"MonthlyIncome <= 3995.0\\nsamples = 300\\nvalue = [222, 78]\\nclass = No\"];\n",
      "16 -> 24;\n",
      "25 [fillcolor=\"#fefaf7\", label=\"StockOptionLevel <= 0.5\\nsamples = 96\\nvalue = [49, 47]\\nclass = No\"];\n",
      "24 -> 25;\n",
      "26 [fillcolor=\"#a7d3f3\", label=\"samples = 42\\nvalue = [15, 27]\\nclass = Yes\"];\n",
      "25 -> 26;\n",
      "27 [fillcolor=\"#f4cbad\", label=\"samples = 54\\nvalue = [34, 20]\\nclass = No\"];\n",
      "25 -> 27;\n",
      "28 [fillcolor=\"#ea985c\", label=\"MaritalStatus_Single <= 0.5\\nsamples = 204\\nvalue = [173, 31]\\nclass = No\"];\n",
      "24 -> 28;\n",
      "29 [fillcolor=\"#e78b49\", label=\"samples = 147\\nvalue = [136, 11]\\nclass = No\"];\n",
      "28 -> 29;\n",
      "30 [fillcolor=\"#f3c5a4\", label=\"samples = 57\\nvalue = [37, 20]\\nclass = No\"];\n",
      "28 -> 30;\n",
      "}\n",
      "\n"
     ]
    }
   ],
   "source": [
    "print(graph)"
   ]
  },
  {
   "cell_type": "markdown",
   "metadata": {},
   "source": [
    "## SVM Visualizations"
   ]
  },
  {
   "cell_type": "code",
   "execution_count": 28,
   "metadata": {},
   "outputs": [
    {
     "data": {
      "image/png": "[encoded data removed]",
      "text/plain": [
       "<Figure size 720x720 with 1 Axes>"
      ]
     },
     "metadata": {
      "needs_background": "light"
     },
     "output_type": "display_data"
    }
   ],
   "source": [
    "import matplotlib.pyplot as plt\n",
    "\n",
    "model = Classification()\n",
    "X = model.X_train\n",
    "Y = model.y_train\n",
    "\n",
    "import numpy as np\n",
    "from sklearn.svm import SVC\n",
    "\n",
    "rs = np.random.RandomState(1234)\n",
    "\n",
    "# Generate some fake data.\n",
    "n_samples = 200\n",
    "# X is the input features by row.\n",
    "X = np.zeros((200,3))\n",
    "X[:n_samples//2] = rs.multivariate_normal( np.ones(3), np.eye(3), size=n_samples//2)\n",
    "X[n_samples//2:] = rs.multivariate_normal(-np.ones(3), np.eye(3), size=n_samples//2)\n",
    "# Y is the class labels for each row of X.\n",
    "Y = np.zeros(n_samples); Y[n_samples//2:] = 1\n",
    "\n",
    "# Fit the data with an svm\n",
    "svc = SVC(kernel='linear')\n",
    "svc.fit(X,Y)\n",
    "\n",
    "# The equation of the separating plane is given by all x in R^3 such that:\n",
    "# np.dot(svc.coef_[0], x) + b = 0. We should solve for the last coordinate\n",
    "# to plot the plane in terms of x and y.\n",
    "\n",
    "z = lambda x,y: (-svc.intercept_[0]-svc.coef_[0][0]*x-svc.coef_[0][1]*y) / svc.coef_[0][2]\n",
    "\n",
    "tmp = np.linspace(-2,2,51)\n",
    "x,y = np.meshgrid(tmp,tmp)\n",
    "\n",
    "# Plot stuff.\n",
    "fig = go.FigureWidget()\n",
    "fig.add_surface(x=x, y=y, z=z(x,y), colorscale='Greys', showscale=False)\n",
    "fig.add_scatter3d(x=X[Y==0,0], y=X[Y==0,1], z=X[Y==0,2], mode='markers', marker={'color': 'blue'})\n",
    "fig.add_scatter3d(x=X[Y==1,0], y=X[Y==1,1], z=X[Y==1,2], mode='markers', marker={'color': 'red'})\n",
    "fig\n",
    "\n"
   ]
  },
  {
   "cell_type": "code",
   "execution_count": 35,
   "metadata": {},
   "outputs": [
    {
     "data": {
      "application/vnd.plotly.v1+json": {
       "config": {
        "plotlyServerURL": "https://plot.ly"
       },
       "data": [
        {
         "hovertemplate": "1=%{x}<br>2=%{y}<br>3=%{z}<br>color=%{marker.color}<extra></extra>",
         "legendgroup": "",
         "marker": {
          "color": [
           1,
           0,
           0,
           0,
           0,
           1,
           0,
           0,
           1,
           0,
           0,
           1,
           0,
           0,
           0,
           0,
           0,
           0,
           0,
           0,
           0,
           1,
           0,
           0,
           0,
           0,
           0,
           0,
           0,
           0,
           1,
           0,
           0,
           1,
           0,
           1,
           0,
           0,
           1,
           1,
           0,
           0,
           0,
           0,
           0,
           0,
           0,
           1,
           0,
           0,
           0,
           0,
           0,
           0,
           0,
           0,
           1,
           0,
           0,
           0,
           1,
           0,
           0,
           0,
           0,
           1,
           0,
           0,
           0,
           0,
           0,
           0,
           0,
           0,
           0,
           0,
           0,
           0,
           1,
           0,
           0,
           0,
           0,
           0,
           0,
           1,
           0,
           0,
           0,
           0,
           0,
           0,
           0,
           0,
           0,
           0,
           0,
           0,
           0,
           1,
           0,
           0,
           0,
           1,
           1,
           0,
           0,
           0,
           0,
           0,
           1,
           0,
           0,
           0,
           1,
           0,
           1,
           0,
           0,
           0,
           0,
           0,
           0,
           1,
           1,
           0,
           0,
           0,
           0,
           0,
           0,
           0,
           0,
           0,
           0,
           0,
           0,
           0,
           0,
           0,
           0,
           0,
           0,
           0,
           0,
           0,
           0,
           0,
           0,
           0,
           0,
           0,
           1,
           0,
           0,
           0,
           0,
           0,
           0,
           0,
           0,
           0,
           0,
           0,
           0,
           0,
           0,
           0,
           0,
           0,
           1,
           0,
           0,
           0,
           0,
           0,
           0,
           0,
           0,
           1,
           1,
           1,
           0,
           0,
           0,
           0,
           1,
           0,
           0,
           0,
           0,
           0,
           1,
           0,
           1,
           0,
           0,
           1,
           0,
           0,
           0,
           0,
           0,
           0,
           0,
           0,
           1,
           0,
           1,
           0,
           0,
           0,
           0,
           0,
           0,
           0,
           0,
           0,
           0,
           0,
           0,
           0,
           0,
           0,
           0,
           1,
           0,
           0,
           1,
           0,
           0,
           1,
           1,
           1,
           0,
           0,
           0,
           0,
           0,
           0,
           0,
           1,
           0,
           0,
           0,
           1,
           0,
           0,
           0,
           0,
           0,
           0,
           0,
           1,
           0,
           0,
           0,
           0,
           0,
           1,
           0,
           1,
           0,
           0,
           0,
           0,
           0,
           0,
           0,
           0,
           0,
           1,
           0,
           0,
           0,
           1,
           0,
           0,
           0,
           0,
           0,
           1,
           0,
           1,
           0,
           0,
           0,
           0,
           0,
           0,
           1,
           0,
           0,
           0
          ],
          "coloraxis": "coloraxis",
          "symbol": "circle"
         },
         "mode": "markers",
         "name": "",
         "scene": "scene",
         "showlegend": false,
         "type": "scatter3d",
         "x": [
          -1.0395941859661209,
          -0.0012037257295615957,
          -0.6108554040546059,
          -0.5662467446649686,
          -0.3258556357319226,
          -0.5042902732904722,
          0.8314912495436697,
          0.03597015709513623,
          1.2180996309205272,
          1.3147517262647415,
          -0.06811671481401768,
          0.9950563339723402,
          -1.3369852485637035,
          -0.5216380852753312,
          0.3531872905325577,
          1.3122734674097616,
          0.7769695547341129,
          -1.6046372049015278,
          -1.4732894855875955,
          -1.5228546626871926,
          0.43744809160187276,
          -1.054463739096,
          1.3469690913794796,
          1.4485777044336536,
          0.023578862820236954,
          -1.158550611005154,
          0.34575251396761814,
          -0.24655135237256726,
          -1.242811412074469,
          1.304838690844822,
          -0.1548557747383126,
          0.7794478135890928,
          0.5911001406106238,
          -1.654202382001125,
          -0.33576867115184206,
          -1.121376728180456,
          -0.7942465593231153,
          1.2255344074854666,
          1.7187079196264579,
          -0.43985554306099595,
          -1.1833331995549525,
          1.1734909715308897,
          0.6431435765652007,
          -0.8066378535980145,
          -1.4683329678776358,
          -0.34072518886180175,
          -0.6182901806195455,
          -0.28372523519726506,
          -0.6306814748944448,
          0.31105688999790015,
          1.3122734674097616,
          -0.02846457313434,
          0.9826650396974409,
          0.7447521896193748,
          0.8488390615285287,
          1.4064473038989962,
          0.06075274564493478,
          -1.3840721668083207,
          -0.8289421832928332,
          1.1660561949659503,
          -0.49437723787055277,
          -1.5104633684122935,
          0.33831773740267856,
          -0.6133336629095858,
          -0.31346434145702334,
          -0.796724818178095,
          -0.6430727691693441,
          1.475838551838432,
          0.0929701107596729,
          1.5303602466479889,
          -0.8884203958123498,
          -0.9875507500115439,
          0.9207085683229445,
          0.6431435765652007,
          -0.7992030770330749,
          0.365578584807457,
          0.15740484098914914,
          -1.5104633684122935,
          0.6010131760305432,
          1.287490878859963,
          -0.29116001176220463,
          0.4275350561819533,
          -0.2936382706171845,
          0.774491295879133,
          -1.190767976119892,
          -0.6752901342840821,
          -0.422507731076137,
          -1.4162895319230588,
          1.3717516799292782,
          0.09544836961465275,
          -1.3320287308537437,
          0.38788291450227563,
          -0.6653770988641627,
          0.8711433912233474,
          -0.3902903659613988,
          -1.5724198397867897,
          -0.593507592069747,
          0.774491295879133,
          -1.0693332922258791,
          -0.7496378999334778,
          1.4114038216089557,
          1.16853445382093,
          0.01614408625529739,
          -0.9726811968816648,
          -1.0445507036760806,
          -1.448506897037797,
          1.3172299851197213,
          0.8116651787038309,
          -1.074289809935839,
          0.46718719786163104,
          1.0917084293165544,
          -1.4881590387174746,
          1.6220558242822436,
          1.33953431481454,
          -1.4336373439079177,
          -0.7620291942083771,
          -0.5637684858099887,
          0.43249157389191306,
          -1.6318980523063062,
          -1.0693332922258791,
          -0.729811829093639,
          1.0694040996217358,
          0.12270921701943116,
          -1.327072213143784,
          1.1239257944312926,
          -1.5079851095573136,
          0.7323608953444755,
          0.7497087073293345,
          -0.8933769135223094,
          1.188360524660769,
          -0.41259469565621754,
          0.13510051129433043,
          -0.5439424149701498,
          -1.1312897636003756,
          0.14005702900429015,
          1.6517949305420017,
          1.3593603856543788,
          1.1462301241261112,
          0.46718719786163104,
          -0.5513771915350895,
          0.4176220207620339,
          1.423795115883855,
          1.6195775654272637,
          -1.1610288698601339,
          1.4014907861890364,
          -0.46215987275581466,
          0.5266654103811476,
          -0.13007318618851407,
          1.099143205881494,
          -0.26885568206738597,
          0.01614408625529739,
          0.5117958572512684,
          1.374229938784258,
          0.01614408625529739,
          0.296187336868021,
          0.125187475874411,
          -0.9602899026067655,
          0.6257957645803417,
          -0.1895513987080306,
          -1.0172898562713022,
          -1.22298534123463,
          1.6914470722216794,
          0.11527444045449159,
          0.9355781214528236,
          -0.27381219977734567,
          -0.6034206274896664,
          -0.216812246112809,
          1.2304909251954264,
          0.6951870125197777,
          0.8042304021388913,
          1.1189692767213328,
          -0.8388552187127526,
          0.9132737917580049,
          1.2800561022950234,
          0.7026217890847173,
          0.9380563803078035,
          -0.13007318618851407,
          1.6418818951220824,
          1.2329691840504062,
          0.8513173203835086,
          0.7546652250392942,
          1.6765775190918002,
          -1.4881590387174746,
          1.7236644373364176,
          1.6047080122973845,
          -1.636854570016266,
          -0.8215074067278937,
          0.8215782141237503,
          0.9405346391627833,
          0.06075274564493478,
          1.716229660771478,
          -0.7347683468035987,
          -0.5018120144354923,
          1.0446215110719372,
          -1.6665936762760243,
          -0.918159502072108,
          -0.6628988400091829,
          0.00623105083537797,
          -1.7260718887955406,
          -0.7322900879486188,
          1.4337081513037746,
          1.1784474892408494,
          -1.019768115126282,
          0.9851432985524208,
          1.5675341294726868,
          -1.0395941859661209,
          0.5117958572512684,
          -1.651724123146145,
          0.9058390151930654,
          0.3234481842727994,
          -1.6913762648258228,
          -0.3828555893964593,
          1.5824036826025658,
          1.0421432522169574,
          -1.0916376219206978,
          1.4807950695483918,
          1.0570128053468366,
          0.501882821831349,
          -1.483202521007515,
          -0.02350805542438029,
          -0.2614209055024464,
          1.5328385055029687,
          1.287490878859963,
          1.0966649470265142,
          -0.5736815212299081,
          -1.2552027063493683,
          0.7546652250392942,
          -1.6393328288712459,
          -1.688898005970843,
          1.0396649933619775,
          -1.7359849242154601,
          -0.6802466519940419,
          -0.33576867115184206,
          -0.1399862216084335,
          -0.8264639244378533,
          -1.275028777189207,
          -0.37046429512156,
          0.9330998625978437,
          1.2998821731348624,
          0.050839710225015364,
          -1.5922459106266285,
          1.3816647153491974,
          0.2144047946536858,
          0.6357088000002612,
          1.2627082903101645,
          0.008709309690357825,
          1.0470997699269171,
          0.9330998625978437,
          1.5477080586328478,
          0.6604913885500597,
          -0.2713339409223658,
          0.8290129906886898,
          1.0347084756520177,
          -0.31346434145702334,
          0.6604913885500597,
          0.8389260261086093,
          1.012404145957199,
          -0.4918989790155729,
          -0.46215987275581466,
          -0.12016015076859464,
          -1.173420164135033,
          -0.030942831989319856,
          -1.5897676517716488,
          -1.1164202104704963,
          0.00623105083537797,
          0.878578167788287,
          0.7645782604592136,
          -1.4509851558927769,
          -0.7595509353533972,
          1.2949256554249027,
          1.5526645763428075,
          1.3866212330591572,
          -0.8562030306976116,
          -1.0990723984856374,
          -1.1412027990202949,
          1.3717516799292782,
          0.4969263041213893,
          -1.3221156954338245,
          1.2701430668751041,
          -0.2638991643574262,
          1.0099258871022192,
          -1.1436810578752747,
          -0.6306814748944448,
          1.304838690844822,
          0.18962220610388725,
          1.032230216797038,
          0.07314403991983406,
          0.43249157389191306,
          0.6134044703054424,
          1.0297519579420582,
          0.742273930764395,
          -1.654202382001125,
          -1.4460286381828171,
          1.0000128516823
         ],
         "y": [
          9,
          9,
          25,
          11,
          19,
          24,
          6,
          2,
          8,
          1,
          4,
          4,
          6,
          7,
          5,
          11,
          2,
          9,
          8,
          7,
          15,
          9,
          19,
          10,
          10,
          23,
          15,
          14,
          22,
          7,
          1,
          8,
          13,
          17,
          1,
          13,
          1,
          5,
          1,
          1,
          5,
          2,
          24,
          7,
          1,
          6,
          5,
          3,
          9,
          20,
          2,
          1,
          18,
          16,
          9,
          3,
          29,
          2,
          28,
          2,
          9,
          2,
          24,
          2,
          1,
          12,
          1,
          2,
          9,
          2,
          2,
          2,
          3,
          2,
          7,
          3,
          5,
          6,
          4,
          2,
          1,
          7,
          6,
          1,
          28,
          3,
          21,
          8,
          10,
          6,
          5,
          1,
          15,
          2,
          9,
          1,
          1,
          1,
          2,
          2,
          1,
          9,
          16,
          28,
          9,
          8,
          4,
          3,
          8,
          5,
          6,
          2,
          7,
          22,
          1,
          2,
          3,
          1,
          22,
          19,
          10,
          11,
          5,
          13,
          3,
          9,
          4,
          24,
          2,
          5,
          4,
          10,
          25,
          6,
          4,
          1,
          9,
          3,
          1,
          27,
          1,
          2,
          1,
          24,
          28,
          12,
          5,
          28,
          3,
          1,
          12,
          2,
          25,
          1,
          3,
          7,
          25,
          2,
          29,
          2,
          2,
          18,
          26,
          2,
          14,
          12,
          1,
          27,
          29,
          18,
          10,
          4,
          10,
          6,
          7,
          1,
          12,
          1,
          17,
          8,
          9,
          24,
          2,
          21,
          15,
          3,
          24,
          16,
          11,
          1,
          10,
          29,
          8,
          7,
          25,
          9,
          24,
          1,
          2,
          20,
          4,
          1,
          15,
          1,
          25,
          1,
          1,
          1,
          24,
          9,
          4,
          11,
          22,
          8,
          1,
          9,
          8,
          28,
          14,
          16,
          10,
          2,
          28,
          14,
          10,
          6,
          14,
          3,
          27,
          11,
          23,
          22,
          1,
          24,
          10,
          2,
          29,
          16,
          3,
          17,
          3,
          12,
          9,
          9,
          23,
          7,
          2,
          19,
          2,
          2,
          7,
          21,
          5,
          9,
          1,
          2,
          5,
          8,
          2,
          26,
          16,
          24,
          10,
          6,
          3,
          5,
          5,
          8,
          11,
          11,
          18,
          19,
          26,
          2,
          16,
          20,
          5,
          2,
          3,
          7,
          2,
          1,
          8,
          7,
          9,
          2,
          5,
          10,
          9,
          1,
          1,
          18,
          16,
          17
         ],
         "z": [
          2,
          1,
          2,
          3,
          3,
          1,
          3,
          1,
          1,
          3,
          3,
          3,
          3,
          3,
          2,
          2,
          3,
          2,
          4,
          4,
          2,
          3,
          2,
          5,
          3,
          2,
          1,
          4,
          4,
          3,
          3,
          2,
          3,
          4,
          4,
          3,
          2,
          2,
          3,
          4,
          3,
          5,
          3,
          4,
          1,
          4,
          4,
          3,
          4,
          4,
          4,
          4,
          4,
          3,
          3,
          1,
          4,
          3,
          4,
          2,
          4,
          3,
          3,
          3,
          3,
          3,
          4,
          4,
          3,
          4,
          2,
          4,
          4,
          3,
          2,
          3,
          3,
          4,
          4,
          4,
          3,
          3,
          3,
          3,
          2,
          1,
          4,
          2,
          4,
          3,
          2,
          3,
          3,
          2,
          2,
          3,
          4,
          4,
          3,
          3,
          3,
          1,
          3,
          3,
          3,
          1,
          2,
          3,
          2,
          3,
          3,
          1,
          3,
          1,
          4,
          1,
          1,
          3,
          3,
          3,
          3,
          2,
          4,
          4,
          4,
          3,
          2,
          4,
          2,
          3,
          4,
          3,
          4,
          3,
          3,
          2,
          4,
          3,
          2,
          3,
          3,
          3,
          4,
          2,
          4,
          3,
          5,
          3,
          3,
          3,
          3,
          2,
          3,
          3,
          2,
          4,
          3,
          4,
          1,
          4,
          3,
          3,
          2,
          2,
          4,
          4,
          3,
          3,
          1,
          1,
          3,
          2,
          4,
          3,
          1,
          3,
          3,
          3,
          2,
          3,
          4,
          3,
          2,
          4,
          2,
          3,
          3,
          4,
          2,
          4,
          3,
          1,
          3,
          4,
          4,
          4,
          3,
          2,
          3,
          1,
          4,
          4,
          2,
          4,
          3,
          5,
          3,
          3,
          4,
          4,
          3,
          3,
          3,
          3,
          1,
          1,
          4,
          2,
          3,
          1,
          3,
          3,
          3,
          3,
          1,
          2,
          3,
          1,
          3,
          4,
          4,
          1,
          4,
          3,
          3,
          3,
          5,
          4,
          4,
          2,
          3,
          3,
          3,
          2,
          3,
          3,
          4,
          4,
          1,
          1,
          3,
          1,
          3,
          4,
          3,
          3,
          4,
          3,
          2,
          4,
          4,
          4,
          3,
          1,
          3,
          2,
          1,
          1,
          2,
          4,
          4,
          3,
          2,
          4,
          4,
          2,
          3,
          3,
          4,
          4,
          3,
          3,
          4,
          3,
          2,
          4,
          4,
          3,
          4,
          1,
          2,
          4,
          2,
          1
         ]
        }
       ],
       "layout": {
        "coloraxis": {
         "colorbar": {
          "title": {
           "text": "color"
          }
         },
         "colorscale": [
          [
           0,
           "#0d0887"
          ],
          [
           0.1111111111111111,
           "#46039f"
          ],
          [
           0.2222222222222222,
           "#7201a8"
          ],
          [
           0.3333333333333333,
           "#9c179e"
          ],
          [
           0.4444444444444444,
           "#bd3786"
          ],
          [
           0.5555555555555556,
           "#d8576b"
          ],
          [
           0.6666666666666666,
           "#ed7953"
          ],
          [
           0.7777777777777778,
           "#fb9f3a"
          ],
          [
           0.8888888888888888,
           "#fdca26"
          ],
          [
           1,
           "#f0f921"
          ]
         ]
        },
        "legend": {
         "tracegroupgap": 0
        },
        "margin": {
         "t": 60
        },
        "scene": {
         "domain": {
          "x": [
           0,
           1
          ],
          "y": [
           0,
           1
          ]
         },
         "xaxis": {
          "title": {
           "text": "1"
          }
         },
         "yaxis": {
          "title": {
           "text": "2"
          }
         },
         "zaxis": {
          "title": {
           "text": "3"
          }
         }
        },
        "template": {
         "data": {
          "bar": [
           {
            "error_x": {
             "color": "#2a3f5f"
            },
            "error_y": {
             "color": "#2a3f5f"
            },
            "marker": {
             "line": {
              "color": "#E5ECF6",
              "width": 0.5
             }
            },
            "type": "bar"
           }
          ],
          "barpolar": [
           {
            "marker": {
             "line": {
              "color": "#E5ECF6",
              "width": 0.5
             }
            },
            "type": "barpolar"
           }
          ],
          "carpet": [
           {
            "aaxis": {
             "endlinecolor": "#2a3f5f",
             "gridcolor": "white",
             "linecolor": "white",
             "minorgridcolor": "white",
             "startlinecolor": "#2a3f5f"
            },
            "baxis": {
             "endlinecolor": "#2a3f5f",
             "gridcolor": "white",
             "linecolor": "white",
             "minorgridcolor": "white",
             "startlinecolor": "#2a3f5f"
            },
            "type": "carpet"
           }
          ],
          "choropleth": [
           {
            "colorbar": {
             "outlinewidth": 0,
             "ticks": ""
            },
            "type": "choropleth"
           }
          ],
          "contour": [
           {
            "colorbar": {
             "outlinewidth": 0,
             "ticks": ""
            },
            "colorscale": [
             [
              0,
              "#0d0887"
             ],
             [
              0.1111111111111111,
              "#46039f"
             ],
             [
              0.2222222222222222,
              "#7201a8"
             ],
             [
              0.3333333333333333,
              "#9c179e"
             ],
             [
              0.4444444444444444,
              "#bd3786"
             ],
             [
              0.5555555555555556,
              "#d8576b"
             ],
             [
              0.6666666666666666,
              "#ed7953"
             ],
             [
              0.7777777777777778,
              "#fb9f3a"
             ],
             [
              0.8888888888888888,
              "#fdca26"
             ],
             [
              1,
              "#f0f921"
             ]
            ],
            "type": "contour"
           }
          ],
          "contourcarpet": [
           {
            "colorbar": {
             "outlinewidth": 0,
             "ticks": ""
            },
            "type": "contourcarpet"
           }
          ],
          "heatmap": [
           {
            "colorbar": {
             "outlinewidth": 0,
             "ticks": ""
            },
            "colorscale": [
             [
              0,
              "#0d0887"
             ],
             [
              0.1111111111111111,
              "#46039f"
             ],
             [
              0.2222222222222222,
              "#7201a8"
             ],
             [
              0.3333333333333333,
              "#9c179e"
             ],
             [
              0.4444444444444444,
              "#bd3786"
             ],
             [
              0.5555555555555556,
              "#d8576b"
             ],
             [
              0.6666666666666666,
              "#ed7953"
             ],
             [
              0.7777777777777778,
              "#fb9f3a"
             ],
             [
              0.8888888888888888,
              "#fdca26"
             ],
             [
              1,
              "#f0f921"
             ]
            ],
            "type": "heatmap"
           }
          ],
          "heatmapgl": [
           {
            "colorbar": {
             "outlinewidth": 0,
             "ticks": ""
            },
            "colorscale": [
             [
              0,
              "#0d0887"
             ],
             [
              0.1111111111111111,
              "#46039f"
             ],
             [
              0.2222222222222222,
              "#7201a8"
             ],
             [
              0.3333333333333333,
              "#9c179e"
             ],
             [
              0.4444444444444444,
              "#bd3786"
             ],
             [
              0.5555555555555556,
              "#d8576b"
             ],
             [
              0.6666666666666666,
              "#ed7953"
             ],
             [
              0.7777777777777778,
              "#fb9f3a"
             ],
             [
              0.8888888888888888,
              "#fdca26"
             ],
             [
              1,
              "#f0f921"
             ]
            ],
            "type": "heatmapgl"
           }
          ],
          "histogram": [
           {
            "marker": {
             "colorbar": {
              "outlinewidth": 0,
              "ticks": ""
             }
            },
            "type": "histogram"
           }
          ],
          "histogram2d": [
           {
            "colorbar": {
             "outlinewidth": 0,
             "ticks": ""
            },
            "colorscale": [
             [
              0,
              "#0d0887"
             ],
             [
              0.1111111111111111,
              "#46039f"
             ],
             [
              0.2222222222222222,
              "#7201a8"
             ],
             [
              0.3333333333333333,
              "#9c179e"
             ],
             [
              0.4444444444444444,
              "#bd3786"
             ],
             [
              0.5555555555555556,
              "#d8576b"
             ],
             [
              0.6666666666666666,
              "#ed7953"
             ],
             [
              0.7777777777777778,
              "#fb9f3a"
             ],
             [
              0.8888888888888888,
              "#fdca26"
             ],
             [
              1,
              "#f0f921"
             ]
            ],
            "type": "histogram2d"
           }
          ],
          "histogram2dcontour": [
           {
            "colorbar": {
             "outlinewidth": 0,
             "ticks": ""
            },
            "colorscale": [
             [
              0,
              "#0d0887"
             ],
             [
              0.1111111111111111,
              "#46039f"
             ],
             [
              0.2222222222222222,
              "#7201a8"
             ],
             [
              0.3333333333333333,
              "#9c179e"
             ],
             [
              0.4444444444444444,
              "#bd3786"
             ],
             [
              0.5555555555555556,
              "#d8576b"
             ],
             [
              0.6666666666666666,
              "#ed7953"
             ],
             [
              0.7777777777777778,
              "#fb9f3a"
             ],
             [
              0.8888888888888888,
              "#fdca26"
             ],
             [
              1,
              "#f0f921"
             ]
            ],
            "type": "histogram2dcontour"
           }
          ],
          "mesh3d": [
           {
            "colorbar": {
             "outlinewidth": 0,
             "ticks": ""
            },
            "type": "mesh3d"
           }
          ],
          "parcoords": [
           {
            "line": {
             "colorbar": {
              "outlinewidth": 0,
              "ticks": ""
             }
            },
            "type": "parcoords"
           }
          ],
          "pie": [
           {
            "automargin": true,
            "type": "pie"
           }
          ],
          "scatter": [
           {
            "marker": {
             "colorbar": {
              "outlinewidth": 0,
              "ticks": ""
             }
            },
            "type": "scatter"
           }
          ],
          "scatter3d": [
           {
            "line": {
             "colorbar": {
              "outlinewidth": 0,
              "ticks": ""
             }
            },
            "marker": {
             "colorbar": {
              "outlinewidth": 0,
              "ticks": ""
             }
            },
            "type": "scatter3d"
           }
          ],
          "scattercarpet": [
           {
            "marker": {
             "colorbar": {
              "outlinewidth": 0,
              "ticks": ""
             }
            },
            "type": "scattercarpet"
           }
          ],
          "scattergeo": [
           {
            "marker": {
             "colorbar": {
              "outlinewidth": 0,
              "ticks": ""
             }
            },
            "type": "scattergeo"
           }
          ],
          "scattergl": [
           {
            "marker": {
             "colorbar": {
              "outlinewidth": 0,
              "ticks": ""
             }
            },
            "type": "scattergl"
           }
          ],
          "scattermapbox": [
           {
            "marker": {
             "colorbar": {
              "outlinewidth": 0,
              "ticks": ""
             }
            },
            "type": "scattermapbox"
           }
          ],
          "scatterpolar": [
           {
            "marker": {
             "colorbar": {
              "outlinewidth": 0,
              "ticks": ""
             }
            },
            "type": "scatterpolar"
           }
          ],
          "scatterpolargl": [
           {
            "marker": {
             "colorbar": {
              "outlinewidth": 0,
              "ticks": ""
             }
            },
            "type": "scatterpolargl"
           }
          ],
          "scatterternary": [
           {
            "marker": {
             "colorbar": {
              "outlinewidth": 0,
              "ticks": ""
             }
            },
            "type": "scatterternary"
           }
          ],
          "surface": [
           {
            "colorbar": {
             "outlinewidth": 0,
             "ticks": ""
            },
            "colorscale": [
             [
              0,
              "#0d0887"
             ],
             [
              0.1111111111111111,
              "#46039f"
             ],
             [
              0.2222222222222222,
              "#7201a8"
             ],
             [
              0.3333333333333333,
              "#9c179e"
             ],
             [
              0.4444444444444444,
              "#bd3786"
             ],
             [
              0.5555555555555556,
              "#d8576b"
             ],
             [
              0.6666666666666666,
              "#ed7953"
             ],
             [
              0.7777777777777778,
              "#fb9f3a"
             ],
             [
              0.8888888888888888,
              "#fdca26"
             ],
             [
              1,
              "#f0f921"
             ]
            ],
            "type": "surface"
           }
          ],
          "table": [
           {
            "cells": {
             "fill": {
              "color": "#EBF0F8"
             },
             "line": {
              "color": "white"
             }
            },
            "header": {
             "fill": {
              "color": "#C8D4E3"
             },
             "line": {
              "color": "white"
             }
            },
            "type": "table"
           }
          ]
         },
         "layout": {
          "annotationdefaults": {
           "arrowcolor": "#2a3f5f",
           "arrowhead": 0,
           "arrowwidth": 1
          },
          "coloraxis": {
           "colorbar": {
            "outlinewidth": 0,
            "ticks": ""
           }
          },
          "colorscale": {
           "diverging": [
            [
             0,
             "#8e0152"
            ],
            [
             0.1,
             "#c51b7d"
            ],
            [
             0.2,
             "#de77ae"
            ],
            [
             0.3,
             "#f1b6da"
            ],
            [
             0.4,
             "#fde0ef"
            ],
            [
             0.5,
             "#f7f7f7"
            ],
            [
             0.6,
             "#e6f5d0"
            ],
            [
             0.7,
             "#b8e186"
            ],
            [
             0.8,
             "#7fbc41"
            ],
            [
             0.9,
             "#4d9221"
            ],
            [
             1,
             "#276419"
            ]
           ],
           "sequential": [
            [
             0,
             "#0d0887"
            ],
            [
             0.1111111111111111,
             "#46039f"
            ],
            [
             0.2222222222222222,
             "#7201a8"
            ],
            [
             0.3333333333333333,
             "#9c179e"
            ],
            [
             0.4444444444444444,
             "#bd3786"
            ],
            [
             0.5555555555555556,
             "#d8576b"
            ],
            [
             0.6666666666666666,
             "#ed7953"
            ],
            [
             0.7777777777777778,
             "#fb9f3a"
            ],
            [
             0.8888888888888888,
             "#fdca26"
            ],
            [
             1,
             "#f0f921"
            ]
           ],
           "sequentialminus": [
            [
             0,
             "#0d0887"
            ],
            [
             0.1111111111111111,
             "#46039f"
            ],
            [
             0.2222222222222222,
             "#7201a8"
            ],
            [
             0.3333333333333333,
             "#9c179e"
            ],
            [
             0.4444444444444444,
             "#bd3786"
            ],
            [
             0.5555555555555556,
             "#d8576b"
            ],
            [
             0.6666666666666666,
             "#ed7953"
            ],
            [
             0.7777777777777778,
             "#fb9f3a"
            ],
            [
             0.8888888888888888,
             "#fdca26"
            ],
            [
             1,
             "#f0f921"
            ]
           ]
          },
          "colorway": [
           "#636efa",
           "#EF553B",
           "#00cc96",
           "#ab63fa",
           "#FFA15A",
           "#19d3f3",
           "#FF6692",
           "#B6E880",
           "#FF97FF",
           "#FECB52"
          ],
          "font": {
           "color": "#2a3f5f"
          },
          "geo": {
           "bgcolor": "white",
           "lakecolor": "white",
           "landcolor": "#E5ECF6",
           "showlakes": true,
           "showland": true,
           "subunitcolor": "white"
          },
          "hoverlabel": {
           "align": "left"
          },
          "hovermode": "closest",
          "mapbox": {
           "style": "light"
          },
          "paper_bgcolor": "white",
          "plot_bgcolor": "#E5ECF6",
          "polar": {
           "angularaxis": {
            "gridcolor": "white",
            "linecolor": "white",
            "ticks": ""
           },
           "bgcolor": "#E5ECF6",
           "radialaxis": {
            "gridcolor": "white",
            "linecolor": "white",
            "ticks": ""
           }
          },
          "scene": {
           "xaxis": {
            "backgroundcolor": "#E5ECF6",
            "gridcolor": "white",
            "gridwidth": 2,
            "linecolor": "white",
            "showbackground": true,
            "ticks": "",
            "zerolinecolor": "white"
           },
           "yaxis": {
            "backgroundcolor": "#E5ECF6",
            "gridcolor": "white",
            "gridwidth": 2,
            "linecolor": "white",
            "showbackground": true,
            "ticks": "",
            "zerolinecolor": "white"
           },
           "zaxis": {
            "backgroundcolor": "#E5ECF6",
            "gridcolor": "white",
            "gridwidth": 2,
            "linecolor": "white",
            "showbackground": true,
            "ticks": "",
            "zerolinecolor": "white"
           }
          },
          "shapedefaults": {
           "line": {
            "color": "#2a3f5f"
           }
          },
          "ternary": {
           "aaxis": {
            "gridcolor": "white",
            "linecolor": "white",
            "ticks": ""
           },
           "baxis": {
            "gridcolor": "white",
            "linecolor": "white",
            "ticks": ""
           },
           "bgcolor": "#E5ECF6",
           "caxis": {
            "gridcolor": "white",
            "linecolor": "white",
            "ticks": ""
           }
          },
          "title": {
           "x": 0.05
          },
          "xaxis": {
           "automargin": true,
           "gridcolor": "white",
           "linecolor": "white",
           "ticks": "",
           "title": {
            "standoff": 15
           },
           "zerolinecolor": "white",
           "zerolinewidth": 2
          },
          "yaxis": {
           "automargin": true,
           "gridcolor": "white",
           "linecolor": "white",
           "ticks": "",
           "title": {
            "standoff": 15
           },
           "zerolinecolor": "white",
           "zerolinewidth": 2
          }
         }
        }
       }
      },
      "text/html": [
       "<div>\n",
       "        \n",
       "        \n",
       "            <div id=\"b0639e41-abf6-4a83-870b-94f19c73c418\" class=\"plotly-graph-div\" style=\"height:525px; width:100%;\"></div>\n",
       "            <script type=\"text/javascript\">\n",
       "                require([\"plotly\"], function(Plotly) {\n",
       "                    window.PLOTLYENV=window.PLOTLYENV || {};\n",
       "                    \n",
       "                if (document.getElementById(\"b0639e41-abf6-4a83-870b-94f19c73c418\")) {\n",
       "                    Plotly.newPlot(\n",
       "                        'b0639e41-abf6-4a83-870b-94f19c73c418',\n",
       "                        [{\"hovertemplate\": \"1=%{x}<br>2=%{y}<br>3=%{z}<br>color=%{marker.color}<extra></extra>\", \"legendgroup\": \"\", \"marker\": {\"color\": [1, 0, 0, 0, 0, 1, 0, 0, 1, 0, 0, 1, 0, 0, 0, 0, 0, 0, 0, 0, 0, 1, 0, 0, 0, 0, 0, 0, 0, 0, 1, 0, 0, 1, 0, 1, 0, 0, 1, 1, 0, 0, 0, 0, 0, 0, 0, 1, 0, 0, 0, 0, 0, 0, 0, 0, 1, 0, 0, 0, 1, 0, 0, 0, 0, 1, 0, 0, 0, 0, 0, 0, 0, 0, 0, 0, 0, 0, 1, 0, 0, 0, 0, 0, 0, 1, 0, 0, 0, 0, 0, 0, 0, 0, 0, 0, 0, 0, 0, 1, 0, 0, 0, 1, 1, 0, 0, 0, 0, 0, 1, 0, 0, 0, 1, 0, 1, 0, 0, 0, 0, 0, 0, 1, 1, 0, 0, 0, 0, 0, 0, 0, 0, 0, 0, 0, 0, 0, 0, 0, 0, 0, 0, 0, 0, 0, 0, 0, 0, 0, 0, 0, 1, 0, 0, 0, 0, 0, 0, 0, 0, 0, 0, 0, 0, 0, 0, 0, 0, 0, 1, 0, 0, 0, 0, 0, 0, 0, 0, 1, 1, 1, 0, 0, 0, 0, 1, 0, 0, 0, 0, 0, 1, 0, 1, 0, 0, 1, 0, 0, 0, 0, 0, 0, 0, 0, 1, 0, 1, 0, 0, 0, 0, 0, 0, 0, 0, 0, 0, 0, 0, 0, 0, 0, 0, 1, 0, 0, 1, 0, 0, 1, 1, 1, 0, 0, 0, 0, 0, 0, 0, 1, 0, 0, 0, 1, 0, 0, 0, 0, 0, 0, 0, 1, 0, 0, 0, 0, 0, 1, 0, 1, 0, 0, 0, 0, 0, 0, 0, 0, 0, 1, 0, 0, 0, 1, 0, 0, 0, 0, 0, 1, 0, 1, 0, 0, 0, 0, 0, 0, 1, 0, 0, 0], \"coloraxis\": \"coloraxis\", \"symbol\": \"circle\"}, \"mode\": \"markers\", \"name\": \"\", \"scene\": \"scene\", \"showlegend\": false, \"type\": \"scatter3d\", \"x\": [-1.0395941859661209, -0.0012037257295615957, -0.6108554040546059, -0.5662467446649686, -0.3258556357319226, -0.5042902732904722, 0.8314912495436697, 0.03597015709513623, 1.2180996309205272, 1.3147517262647415, -0.06811671481401768, 0.9950563339723402, -1.3369852485637035, -0.5216380852753312, 0.3531872905325577, 1.3122734674097616, 0.7769695547341129, -1.6046372049015278, -1.4732894855875955, -1.5228546626871926, 0.43744809160187276, -1.054463739096, 1.3469690913794796, 1.4485777044336536, 0.023578862820236954, -1.158550611005154, 0.34575251396761814, -0.24655135237256726, -1.242811412074469, 1.304838690844822, -0.1548557747383126, 0.7794478135890928, 0.5911001406106238, -1.654202382001125, -0.33576867115184206, -1.121376728180456, -0.7942465593231153, 1.2255344074854666, 1.7187079196264579, -0.43985554306099595, -1.1833331995549525, 1.1734909715308897, 0.6431435765652007, -0.8066378535980145, -1.4683329678776358, -0.34072518886180175, -0.6182901806195455, -0.28372523519726506, -0.6306814748944448, 0.31105688999790015, 1.3122734674097616, -0.02846457313434, 0.9826650396974409, 0.7447521896193748, 0.8488390615285287, 1.4064473038989962, 0.06075274564493478, -1.3840721668083207, -0.8289421832928332, 1.1660561949659503, -0.49437723787055277, -1.5104633684122935, 0.33831773740267856, -0.6133336629095858, -0.31346434145702334, -0.796724818178095, -0.6430727691693441, 1.475838551838432, 0.0929701107596729, 1.5303602466479889, -0.8884203958123498, -0.9875507500115439, 0.9207085683229445, 0.6431435765652007, -0.7992030770330749, 0.365578584807457, 0.15740484098914914, -1.5104633684122935, 0.6010131760305432, 1.287490878859963, -0.29116001176220463, 0.4275350561819533, -0.2936382706171845, 0.774491295879133, -1.190767976119892, -0.6752901342840821, -0.422507731076137, -1.4162895319230588, 1.3717516799292782, 0.09544836961465275, -1.3320287308537437, 0.38788291450227563, -0.6653770988641627, 0.8711433912233474, -0.3902903659613988, -1.5724198397867897, -0.593507592069747, 0.774491295879133, -1.0693332922258791, -0.7496378999334778, 1.4114038216089557, 1.16853445382093, 0.01614408625529739, -0.9726811968816648, -1.0445507036760806, -1.448506897037797, 1.3172299851197213, 0.8116651787038309, -1.074289809935839, 0.46718719786163104, 1.0917084293165544, -1.4881590387174746, 1.6220558242822436, 1.33953431481454, -1.4336373439079177, -0.7620291942083771, -0.5637684858099887, 0.43249157389191306, -1.6318980523063062, -1.0693332922258791, -0.729811829093639, 1.0694040996217358, 0.12270921701943116, -1.327072213143784, 1.1239257944312926, -1.5079851095573136, 0.7323608953444755, 0.7497087073293345, -0.8933769135223094, 1.188360524660769, -0.41259469565621754, 0.13510051129433043, -0.5439424149701498, -1.1312897636003756, 0.14005702900429015, 1.6517949305420017, 1.3593603856543788, 1.1462301241261112, 0.46718719786163104, -0.5513771915350895, 0.4176220207620339, 1.423795115883855, 1.6195775654272637, -1.1610288698601339, 1.4014907861890364, -0.46215987275581466, 0.5266654103811476, -0.13007318618851407, 1.099143205881494, -0.26885568206738597, 0.01614408625529739, 0.5117958572512684, 1.374229938784258, 0.01614408625529739, 0.296187336868021, 0.125187475874411, -0.9602899026067655, 0.6257957645803417, -0.1895513987080306, -1.0172898562713022, -1.22298534123463, 1.6914470722216794, 0.11527444045449159, 0.9355781214528236, -0.27381219977734567, -0.6034206274896664, -0.216812246112809, 1.2304909251954264, 0.6951870125197777, 0.8042304021388913, 1.1189692767213328, -0.8388552187127526, 0.9132737917580049, 1.2800561022950234, 0.7026217890847173, 0.9380563803078035, -0.13007318618851407, 1.6418818951220824, 1.2329691840504062, 0.8513173203835086, 0.7546652250392942, 1.6765775190918002, -1.4881590387174746, 1.7236644373364176, 1.6047080122973845, -1.636854570016266, -0.8215074067278937, 0.8215782141237503, 0.9405346391627833, 0.06075274564493478, 1.716229660771478, -0.7347683468035987, -0.5018120144354923, 1.0446215110719372, -1.6665936762760243, -0.918159502072108, -0.6628988400091829, 0.00623105083537797, -1.7260718887955406, -0.7322900879486188, 1.4337081513037746, 1.1784474892408494, -1.019768115126282, 0.9851432985524208, 1.5675341294726868, -1.0395941859661209, 0.5117958572512684, -1.651724123146145, 0.9058390151930654, 0.3234481842727994, -1.6913762648258228, -0.3828555893964593, 1.5824036826025658, 1.0421432522169574, -1.0916376219206978, 1.4807950695483918, 1.0570128053468366, 0.501882821831349, -1.483202521007515, -0.02350805542438029, -0.2614209055024464, 1.5328385055029687, 1.287490878859963, 1.0966649470265142, -0.5736815212299081, -1.2552027063493683, 0.7546652250392942, -1.6393328288712459, -1.688898005970843, 1.0396649933619775, -1.7359849242154601, -0.6802466519940419, -0.33576867115184206, -0.1399862216084335, -0.8264639244378533, -1.275028777189207, -0.37046429512156, 0.9330998625978437, 1.2998821731348624, 0.050839710225015364, -1.5922459106266285, 1.3816647153491974, 0.2144047946536858, 0.6357088000002612, 1.2627082903101645, 0.008709309690357825, 1.0470997699269171, 0.9330998625978437, 1.5477080586328478, 0.6604913885500597, -0.2713339409223658, 0.8290129906886898, 1.0347084756520177, -0.31346434145702334, 0.6604913885500597, 0.8389260261086093, 1.012404145957199, -0.4918989790155729, -0.46215987275581466, -0.12016015076859464, -1.173420164135033, -0.030942831989319856, -1.5897676517716488, -1.1164202104704963, 0.00623105083537797, 0.878578167788287, 0.7645782604592136, -1.4509851558927769, -0.7595509353533972, 1.2949256554249027, 1.5526645763428075, 1.3866212330591572, -0.8562030306976116, -1.0990723984856374, -1.1412027990202949, 1.3717516799292782, 0.4969263041213893, -1.3221156954338245, 1.2701430668751041, -0.2638991643574262, 1.0099258871022192, -1.1436810578752747, -0.6306814748944448, 1.304838690844822, 0.18962220610388725, 1.032230216797038, 0.07314403991983406, 0.43249157389191306, 0.6134044703054424, 1.0297519579420582, 0.742273930764395, -1.654202382001125, -1.4460286381828171, 1.0000128516823], \"y\": [9.0, 9.0, 25.0, 11.0, 19.0, 24.0, 6.0, 2.0, 8.0, 1.0, 4.0, 4.0, 6.0, 7.0, 5.0, 11.0, 2.0, 9.0, 8.0, 7.0, 15.0, 9.0, 19.0, 10.0, 10.0, 23.0, 15.0, 14.0, 22.0, 7.0, 1.0, 8.0, 13.0, 17.0, 1.0, 13.0, 1.0, 5.0, 1.0, 1.0, 5.0, 2.0, 24.0, 7.0, 1.0, 6.0, 5.0, 3.0, 9.0, 20.0, 2.0, 1.0, 18.0, 16.0, 9.0, 3.0, 29.0, 2.0, 28.0, 2.0, 9.0, 2.0, 24.0, 2.0, 1.0, 12.0, 1.0, 2.0, 9.0, 2.0, 2.0, 2.0, 3.0, 2.0, 7.0, 3.0, 5.0, 6.0, 4.0, 2.0, 1.0, 7.0, 6.0, 1.0, 28.0, 3.0, 21.0, 8.0, 10.0, 6.0, 5.0, 1.0, 15.0, 2.0, 9.0, 1.0, 1.0, 1.0, 2.0, 2.0, 1.0, 9.0, 16.0, 28.0, 9.0, 8.0, 4.0, 3.0, 8.0, 5.0, 6.0, 2.0, 7.0, 22.0, 1.0, 2.0, 3.0, 1.0, 22.0, 19.0, 10.0, 11.0, 5.0, 13.0, 3.0, 9.0, 4.0, 24.0, 2.0, 5.0, 4.0, 10.0, 25.0, 6.0, 4.0, 1.0, 9.0, 3.0, 1.0, 27.0, 1.0, 2.0, 1.0, 24.0, 28.0, 12.0, 5.0, 28.0, 3.0, 1.0, 12.0, 2.0, 25.0, 1.0, 3.0, 7.0, 25.0, 2.0, 29.0, 2.0, 2.0, 18.0, 26.0, 2.0, 14.0, 12.0, 1.0, 27.0, 29.0, 18.0, 10.0, 4.0, 10.0, 6.0, 7.0, 1.0, 12.0, 1.0, 17.0, 8.0, 9.0, 24.0, 2.0, 21.0, 15.0, 3.0, 24.0, 16.0, 11.0, 1.0, 10.0, 29.0, 8.0, 7.0, 25.0, 9.0, 24.0, 1.0, 2.0, 20.0, 4.0, 1.0, 15.0, 1.0, 25.0, 1.0, 1.0, 1.0, 24.0, 9.0, 4.0, 11.0, 22.0, 8.0, 1.0, 9.0, 8.0, 28.0, 14.0, 16.0, 10.0, 2.0, 28.0, 14.0, 10.0, 6.0, 14.0, 3.0, 27.0, 11.0, 23.0, 22.0, 1.0, 24.0, 10.0, 2.0, 29.0, 16.0, 3.0, 17.0, 3.0, 12.0, 9.0, 9.0, 23.0, 7.0, 2.0, 19.0, 2.0, 2.0, 7.0, 21.0, 5.0, 9.0, 1.0, 2.0, 5.0, 8.0, 2.0, 26.0, 16.0, 24.0, 10.0, 6.0, 3.0, 5.0, 5.0, 8.0, 11.0, 11.0, 18.0, 19.0, 26.0, 2.0, 16.0, 20.0, 5.0, 2.0, 3.0, 7.0, 2.0, 1.0, 8.0, 7.0, 9.0, 2.0, 5.0, 10.0, 9.0, 1.0, 1.0, 18.0, 16.0, 17.0], \"z\": [2.0, 1.0, 2.0, 3.0, 3.0, 1.0, 3.0, 1.0, 1.0, 3.0, 3.0, 3.0, 3.0, 3.0, 2.0, 2.0, 3.0, 2.0, 4.0, 4.0, 2.0, 3.0, 2.0, 5.0, 3.0, 2.0, 1.0, 4.0, 4.0, 3.0, 3.0, 2.0, 3.0, 4.0, 4.0, 3.0, 2.0, 2.0, 3.0, 4.0, 3.0, 5.0, 3.0, 4.0, 1.0, 4.0, 4.0, 3.0, 4.0, 4.0, 4.0, 4.0, 4.0, 3.0, 3.0, 1.0, 4.0, 3.0, 4.0, 2.0, 4.0, 3.0, 3.0, 3.0, 3.0, 3.0, 4.0, 4.0, 3.0, 4.0, 2.0, 4.0, 4.0, 3.0, 2.0, 3.0, 3.0, 4.0, 4.0, 4.0, 3.0, 3.0, 3.0, 3.0, 2.0, 1.0, 4.0, 2.0, 4.0, 3.0, 2.0, 3.0, 3.0, 2.0, 2.0, 3.0, 4.0, 4.0, 3.0, 3.0, 3.0, 1.0, 3.0, 3.0, 3.0, 1.0, 2.0, 3.0, 2.0, 3.0, 3.0, 1.0, 3.0, 1.0, 4.0, 1.0, 1.0, 3.0, 3.0, 3.0, 3.0, 2.0, 4.0, 4.0, 4.0, 3.0, 2.0, 4.0, 2.0, 3.0, 4.0, 3.0, 4.0, 3.0, 3.0, 2.0, 4.0, 3.0, 2.0, 3.0, 3.0, 3.0, 4.0, 2.0, 4.0, 3.0, 5.0, 3.0, 3.0, 3.0, 3.0, 2.0, 3.0, 3.0, 2.0, 4.0, 3.0, 4.0, 1.0, 4.0, 3.0, 3.0, 2.0, 2.0, 4.0, 4.0, 3.0, 3.0, 1.0, 1.0, 3.0, 2.0, 4.0, 3.0, 1.0, 3.0, 3.0, 3.0, 2.0, 3.0, 4.0, 3.0, 2.0, 4.0, 2.0, 3.0, 3.0, 4.0, 2.0, 4.0, 3.0, 1.0, 3.0, 4.0, 4.0, 4.0, 3.0, 2.0, 3.0, 1.0, 4.0, 4.0, 2.0, 4.0, 3.0, 5.0, 3.0, 3.0, 4.0, 4.0, 3.0, 3.0, 3.0, 3.0, 1.0, 1.0, 4.0, 2.0, 3.0, 1.0, 3.0, 3.0, 3.0, 3.0, 1.0, 2.0, 3.0, 1.0, 3.0, 4.0, 4.0, 1.0, 4.0, 3.0, 3.0, 3.0, 5.0, 4.0, 4.0, 2.0, 3.0, 3.0, 3.0, 2.0, 3.0, 3.0, 4.0, 4.0, 1.0, 1.0, 3.0, 1.0, 3.0, 4.0, 3.0, 3.0, 4.0, 3.0, 2.0, 4.0, 4.0, 4.0, 3.0, 1.0, 3.0, 2.0, 1.0, 1.0, 2.0, 4.0, 4.0, 3.0, 2.0, 4.0, 4.0, 2.0, 3.0, 3.0, 4.0, 4.0, 3.0, 3.0, 4.0, 3.0, 2.0, 4.0, 4.0, 3.0, 4.0, 1.0, 2.0, 4.0, 2.0, 1.0]}],\n",
       "                        {\"coloraxis\": {\"colorbar\": {\"title\": {\"text\": \"color\"}}, \"colorscale\": [[0.0, \"#0d0887\"], [0.1111111111111111, \"#46039f\"], [0.2222222222222222, \"#7201a8\"], [0.3333333333333333, \"#9c179e\"], [0.4444444444444444, \"#bd3786\"], [0.5555555555555556, \"#d8576b\"], [0.6666666666666666, \"#ed7953\"], [0.7777777777777778, \"#fb9f3a\"], [0.8888888888888888, \"#fdca26\"], [1.0, \"#f0f921\"]]}, \"legend\": {\"tracegroupgap\": 0}, \"margin\": {\"t\": 60}, \"scene\": {\"domain\": {\"x\": [0.0, 1.0], \"y\": [0.0, 1.0]}, \"xaxis\": {\"title\": {\"text\": \"1\"}}, \"yaxis\": {\"title\": {\"text\": \"2\"}}, \"zaxis\": {\"title\": {\"text\": \"3\"}}}, \"template\": {\"data\": {\"bar\": [{\"error_x\": {\"color\": \"#2a3f5f\"}, \"error_y\": {\"color\": \"#2a3f5f\"}, \"marker\": {\"line\": {\"color\": \"#E5ECF6\", \"width\": 0.5}}, \"type\": \"bar\"}], \"barpolar\": [{\"marker\": {\"line\": {\"color\": \"#E5ECF6\", \"width\": 0.5}}, \"type\": \"barpolar\"}], \"carpet\": [{\"aaxis\": {\"endlinecolor\": \"#2a3f5f\", \"gridcolor\": \"white\", \"linecolor\": \"white\", \"minorgridcolor\": \"white\", \"startlinecolor\": \"#2a3f5f\"}, \"baxis\": {\"endlinecolor\": \"#2a3f5f\", \"gridcolor\": \"white\", \"linecolor\": \"white\", \"minorgridcolor\": \"white\", \"startlinecolor\": \"#2a3f5f\"}, \"type\": \"carpet\"}], \"choropleth\": [{\"colorbar\": {\"outlinewidth\": 0, \"ticks\": \"\"}, \"type\": \"choropleth\"}], \"contour\": [{\"colorbar\": {\"outlinewidth\": 0, \"ticks\": \"\"}, \"colorscale\": [[0.0, \"#0d0887\"], [0.1111111111111111, \"#46039f\"], [0.2222222222222222, \"#7201a8\"], [0.3333333333333333, \"#9c179e\"], [0.4444444444444444, \"#bd3786\"], [0.5555555555555556, \"#d8576b\"], [0.6666666666666666, \"#ed7953\"], [0.7777777777777778, \"#fb9f3a\"], [0.8888888888888888, \"#fdca26\"], [1.0, \"#f0f921\"]], \"type\": \"contour\"}], \"contourcarpet\": [{\"colorbar\": {\"outlinewidth\": 0, \"ticks\": \"\"}, \"type\": \"contourcarpet\"}], \"heatmap\": [{\"colorbar\": {\"outlinewidth\": 0, \"ticks\": \"\"}, \"colorscale\": [[0.0, \"#0d0887\"], [0.1111111111111111, \"#46039f\"], [0.2222222222222222, \"#7201a8\"], [0.3333333333333333, \"#9c179e\"], [0.4444444444444444, \"#bd3786\"], [0.5555555555555556, \"#d8576b\"], [0.6666666666666666, \"#ed7953\"], [0.7777777777777778, \"#fb9f3a\"], [0.8888888888888888, \"#fdca26\"], [1.0, \"#f0f921\"]], \"type\": \"heatmap\"}], \"heatmapgl\": [{\"colorbar\": {\"outlinewidth\": 0, \"ticks\": \"\"}, \"colorscale\": [[0.0, \"#0d0887\"], [0.1111111111111111, \"#46039f\"], [0.2222222222222222, \"#7201a8\"], [0.3333333333333333, \"#9c179e\"], [0.4444444444444444, \"#bd3786\"], [0.5555555555555556, \"#d8576b\"], [0.6666666666666666, \"#ed7953\"], [0.7777777777777778, \"#fb9f3a\"], [0.8888888888888888, \"#fdca26\"], [1.0, \"#f0f921\"]], \"type\": \"heatmapgl\"}], \"histogram\": [{\"marker\": {\"colorbar\": {\"outlinewidth\": 0, \"ticks\": \"\"}}, \"type\": \"histogram\"}], \"histogram2d\": [{\"colorbar\": {\"outlinewidth\": 0, \"ticks\": \"\"}, \"colorscale\": [[0.0, \"#0d0887\"], [0.1111111111111111, \"#46039f\"], [0.2222222222222222, \"#7201a8\"], [0.3333333333333333, \"#9c179e\"], [0.4444444444444444, \"#bd3786\"], [0.5555555555555556, \"#d8576b\"], [0.6666666666666666, \"#ed7953\"], [0.7777777777777778, \"#fb9f3a\"], [0.8888888888888888, \"#fdca26\"], [1.0, \"#f0f921\"]], \"type\": \"histogram2d\"}], \"histogram2dcontour\": [{\"colorbar\": {\"outlinewidth\": 0, \"ticks\": \"\"}, \"colorscale\": [[0.0, \"#0d0887\"], [0.1111111111111111, \"#46039f\"], [0.2222222222222222, \"#7201a8\"], [0.3333333333333333, \"#9c179e\"], [0.4444444444444444, \"#bd3786\"], [0.5555555555555556, \"#d8576b\"], [0.6666666666666666, \"#ed7953\"], [0.7777777777777778, \"#fb9f3a\"], [0.8888888888888888, \"#fdca26\"], [1.0, \"#f0f921\"]], \"type\": \"histogram2dcontour\"}], \"mesh3d\": [{\"colorbar\": {\"outlinewidth\": 0, \"ticks\": \"\"}, \"type\": \"mesh3d\"}], \"parcoords\": [{\"line\": {\"colorbar\": {\"outlinewidth\": 0, \"ticks\": \"\"}}, \"type\": \"parcoords\"}], \"pie\": [{\"automargin\": true, \"type\": \"pie\"}], \"scatter\": [{\"marker\": {\"colorbar\": {\"outlinewidth\": 0, \"ticks\": \"\"}}, \"type\": \"scatter\"}], \"scatter3d\": [{\"line\": {\"colorbar\": {\"outlinewidth\": 0, \"ticks\": \"\"}}, \"marker\": {\"colorbar\": {\"outlinewidth\": 0, \"ticks\": \"\"}}, \"type\": \"scatter3d\"}], \"scattercarpet\": [{\"marker\": {\"colorbar\": {\"outlinewidth\": 0, \"ticks\": \"\"}}, \"type\": \"scattercarpet\"}], \"scattergeo\": [{\"marker\": {\"colorbar\": {\"outlinewidth\": 0, \"ticks\": \"\"}}, \"type\": \"scattergeo\"}], \"scattergl\": [{\"marker\": {\"colorbar\": {\"outlinewidth\": 0, \"ticks\": \"\"}}, \"type\": \"scattergl\"}], \"scattermapbox\": [{\"marker\": {\"colorbar\": {\"outlinewidth\": 0, \"ticks\": \"\"}}, \"type\": \"scattermapbox\"}], \"scatterpolar\": [{\"marker\": {\"colorbar\": {\"outlinewidth\": 0, \"ticks\": \"\"}}, \"type\": \"scatterpolar\"}], \"scatterpolargl\": [{\"marker\": {\"colorbar\": {\"outlinewidth\": 0, \"ticks\": \"\"}}, \"type\": \"scatterpolargl\"}], \"scatterternary\": [{\"marker\": {\"colorbar\": {\"outlinewidth\": 0, \"ticks\": \"\"}}, \"type\": \"scatterternary\"}], \"surface\": [{\"colorbar\": {\"outlinewidth\": 0, \"ticks\": \"\"}, \"colorscale\": [[0.0, \"#0d0887\"], [0.1111111111111111, \"#46039f\"], [0.2222222222222222, \"#7201a8\"], [0.3333333333333333, \"#9c179e\"], [0.4444444444444444, \"#bd3786\"], [0.5555555555555556, \"#d8576b\"], [0.6666666666666666, \"#ed7953\"], [0.7777777777777778, \"#fb9f3a\"], [0.8888888888888888, \"#fdca26\"], [1.0, \"#f0f921\"]], \"type\": \"surface\"}], \"table\": [{\"cells\": {\"fill\": {\"color\": \"#EBF0F8\"}, \"line\": {\"color\": \"white\"}}, \"header\": {\"fill\": {\"color\": \"#C8D4E3\"}, \"line\": {\"color\": \"white\"}}, \"type\": \"table\"}]}, \"layout\": {\"annotationdefaults\": {\"arrowcolor\": \"#2a3f5f\", \"arrowhead\": 0, \"arrowwidth\": 1}, \"coloraxis\": {\"colorbar\": {\"outlinewidth\": 0, \"ticks\": \"\"}}, \"colorscale\": {\"diverging\": [[0, \"#8e0152\"], [0.1, \"#c51b7d\"], [0.2, \"#de77ae\"], [0.3, \"#f1b6da\"], [0.4, \"#fde0ef\"], [0.5, \"#f7f7f7\"], [0.6, \"#e6f5d0\"], [0.7, \"#b8e186\"], [0.8, \"#7fbc41\"], [0.9, \"#4d9221\"], [1, \"#276419\"]], \"sequential\": [[0.0, \"#0d0887\"], [0.1111111111111111, \"#46039f\"], [0.2222222222222222, \"#7201a8\"], [0.3333333333333333, \"#9c179e\"], [0.4444444444444444, \"#bd3786\"], [0.5555555555555556, \"#d8576b\"], [0.6666666666666666, \"#ed7953\"], [0.7777777777777778, \"#fb9f3a\"], [0.8888888888888888, \"#fdca26\"], [1.0, \"#f0f921\"]], \"sequentialminus\": [[0.0, \"#0d0887\"], [0.1111111111111111, \"#46039f\"], [0.2222222222222222, \"#7201a8\"], [0.3333333333333333, \"#9c179e\"], [0.4444444444444444, \"#bd3786\"], [0.5555555555555556, \"#d8576b\"], [0.6666666666666666, \"#ed7953\"], [0.7777777777777778, \"#fb9f3a\"], [0.8888888888888888, \"#fdca26\"], [1.0, \"#f0f921\"]]}, \"colorway\": [\"#636efa\", \"#EF553B\", \"#00cc96\", \"#ab63fa\", \"#FFA15A\", \"#19d3f3\", \"#FF6692\", \"#B6E880\", \"#FF97FF\", \"#FECB52\"], \"font\": {\"color\": \"#2a3f5f\"}, \"geo\": {\"bgcolor\": \"white\", \"lakecolor\": \"white\", \"landcolor\": \"#E5ECF6\", \"showlakes\": true, \"showland\": true, \"subunitcolor\": \"white\"}, \"hoverlabel\": {\"align\": \"left\"}, \"hovermode\": \"closest\", \"mapbox\": {\"style\": \"light\"}, \"paper_bgcolor\": \"white\", \"plot_bgcolor\": \"#E5ECF6\", \"polar\": {\"angularaxis\": {\"gridcolor\": \"white\", \"linecolor\": \"white\", \"ticks\": \"\"}, \"bgcolor\": \"#E5ECF6\", \"radialaxis\": {\"gridcolor\": \"white\", \"linecolor\": \"white\", \"ticks\": \"\"}}, \"scene\": {\"xaxis\": {\"backgroundcolor\": \"#E5ECF6\", \"gridcolor\": \"white\", \"gridwidth\": 2, \"linecolor\": \"white\", \"showbackground\": true, \"ticks\": \"\", \"zerolinecolor\": \"white\"}, \"yaxis\": {\"backgroundcolor\": \"#E5ECF6\", \"gridcolor\": \"white\", \"gridwidth\": 2, \"linecolor\": \"white\", \"showbackground\": true, \"ticks\": \"\", \"zerolinecolor\": \"white\"}, \"zaxis\": {\"backgroundcolor\": \"#E5ECF6\", \"gridcolor\": \"white\", \"gridwidth\": 2, \"linecolor\": \"white\", \"showbackground\": true, \"ticks\": \"\", \"zerolinecolor\": \"white\"}}, \"shapedefaults\": {\"line\": {\"color\": \"#2a3f5f\"}}, \"ternary\": {\"aaxis\": {\"gridcolor\": \"white\", \"linecolor\": \"white\", \"ticks\": \"\"}, \"baxis\": {\"gridcolor\": \"white\", \"linecolor\": \"white\", \"ticks\": \"\"}, \"bgcolor\": \"#E5ECF6\", \"caxis\": {\"gridcolor\": \"white\", \"linecolor\": \"white\", \"ticks\": \"\"}}, \"title\": {\"x\": 0.05}, \"xaxis\": {\"automargin\": true, \"gridcolor\": \"white\", \"linecolor\": \"white\", \"ticks\": \"\", \"title\": {\"standoff\": 15}, \"zerolinecolor\": \"white\", \"zerolinewidth\": 2}, \"yaxis\": {\"automargin\": true, \"gridcolor\": \"white\", \"linecolor\": \"white\", \"ticks\": \"\", \"title\": {\"standoff\": 15}, \"zerolinecolor\": \"white\", \"zerolinewidth\": 2}}}},\n",
       "                        {\"responsive\": true}\n",
       "                    ).then(function(){\n",
       "                            \n",
       "var gd = document.getElementById('b0639e41-abf6-4a83-870b-94f19c73c418');\n",
       "var x = new MutationObserver(function (mutations, observer) {{\n",
       "        var display = window.getComputedStyle(gd).display;\n",
       "        if (!display || display === 'none') {{\n",
       "            console.log([gd, 'removed!']);\n",
       "            Plotly.purge(gd);\n",
       "            observer.disconnect();\n",
       "        }}\n",
       "}});\n",
       "\n",
       "// Listen for the removal of the full notebook cells\n",
       "var notebookContainer = gd.closest('#notebook-container');\n",
       "if (notebookContainer) {{\n",
       "    x.observe(notebookContainer, {childList: true});\n",
       "}}\n",
       "\n",
       "// Listen for the clearing of the current output cell\n",
       "var outputEl = gd.closest('.output');\n",
       "if (outputEl) {{\n",
       "    x.observe(outputEl, {childList: true});\n",
       "}}\n",
       "\n",
       "                        })\n",
       "                };\n",
       "                });\n",
       "            </script>\n",
       "        </div>"
      ]
     },
     "metadata": {},
     "output_type": "display_data"
    }
   ],
   "source": [
    "import plotly.express as px\n",
    "\n",
    "\n",
    "#X[:, 1], X[:, 2], X[:, 3], c=Y\n",
    "fig = px.scatter_3d(model.X_test, x=1, y=2, z=3,color=model.y_test)\n",
    "fig.show()"
   ]
  },
  {
   "cell_type": "code",
   "execution_count": null,
   "metadata": {},
   "outputs": [],
   "source": [
    "plt.scatter(X[:, 0], X[:, 1], c=y, s=50, cmap='autumn');"
   ]
  },
  {
   "cell_type": "code",
   "execution_count": null,
   "metadata": {},
   "outputs": [],
   "source": []
  },
  {
   "cell_type": "code",
   "execution_count": null,
   "metadata": {},
   "outputs": [],
   "source": []
  },
  {
   "cell_type": "code",
   "execution_count": null,
   "metadata": {},
   "outputs": [],
   "source": []
  },
  {
   "cell_type": "code",
   "execution_count": null,
   "metadata": {},
   "outputs": [],
   "source": [
    "#Get data\n",
    "data = pd.read_csv('data/WA_Fn-UseC_-HR-Employee-Attrition.csv', encoding='utf-8-sig')"
   ]
  },
  {
   "cell_type": "code",
   "execution_count": null,
   "metadata": {},
   "outputs": [],
   "source": [
    "data.columns\n",
    "\n",
    "'MonthlyIncome','TotalWorkingYears','YearsAtCompany','NumCompaniesWorked'\n",
    "\n",
    "Age, Monthly Income, Total Working Years, Years at company"
   ]
  },
  {
   "cell_type": "code",
   "execution_count": null,
   "metadata": {},
   "outputs": [],
   "source": [
    "#Drop columns irrelevant to our analysis\n",
    "drop_columns = ['EmployeeCount','EmployeeNumber','Over18','StandardHours']\n",
    "data = data.drop(drop_columns, axis=1)\n",
    "\n",
    "#Investigate relationship between incomes\n",
    "mnth_inc = data['MonthlyIncome']\n",
    "mnth_rte = data['MonthlyRate']\n",
    "dly_rte = data['DailyRate']\n",
    "hly_rte = data['HourlyRate']\n",
    "\n",
    "#Normalize the large income data for HourlyRate, DailyRate, MonthlyRate and MonthlyIncome\n",
    "norm_col = ['HourlyRate','DailyRate','MonthlyRate','MonthlyIncome']\n",
    "for col in norm_col:\n",
    "    data[col] = (data[col] - data[col].mean())/ data[col].std()"
   ]
  },
  {
   "cell_type": "code",
   "execution_count": null,
   "metadata": {},
   "outputs": [],
   "source": [
    "#Convert categorical features to numerical features\n",
    "le = LabelEncoder()\n",
    "attrition = data['Attrition']\n",
    "attrition = le.fit_transform(attrition)\n",
    "data.drop('Attrition', axis=1, inplace=True)\n",
    "\n",
    "cat_col = data.select_dtypes(include=['object']).columns.values\n",
    "data_col = data[cat_col]\n",
    "data.drop(cat_col, axis=1, inplace=True)\n",
    "\n",
    "#One hot encode categorical data and combine dataframes\n",
    "data_col = pd.get_dummies(data_col)\n",
    "data = pd.concat([data, data_col], axis=1)"
   ]
  },
  {
   "cell_type": "code",
   "execution_count": null,
   "metadata": {},
   "outputs": [],
   "source": [
    "df = data\n",
    "data=data.values\n",
    "data"
   ]
  },
  {
   "cell_type": "code",
   "execution_count": null,
   "metadata": {},
   "outputs": [],
   "source": [
    "#Visiualize the 'questionable' income correlations\n",
    "f, ((p1, p2), (p3, p4)) = plt.subplots(2,2,figsize=(12,10))\n",
    "p1.hist(dly_rte / hly_rte, bins=12, edgecolor='k')\n",
    "p1.set_xlabel('Hours Needed for Daily Rate')\n",
    "p2.hist(mnth_rte / dly_rte, edgecolor='k')\n",
    "p2.set_xlabel('Days Needed for Monthly Rate')\n",
    "p3.hist((mnth_rte * 12 / 26) / (hly_rte * 80), bins=30, edgecolor='k')\n",
    "p3.set_xlabel('Monthly rate normalized against 80 hour pay period')\n",
    "p4.hist(mnth_inc/mnth_rte, bins=30, edgecolor='k')\n",
    "p4.set_xlabel('Ratio of Monthly Income to Monthly Rate')\n",
    "f.show()"
   ]
  },
  {
   "cell_type": "code",
   "execution_count": null,
   "metadata": {},
   "outputs": [],
   "source": [
    "# splitting into test/train\n",
    "from sklearn.model_selection import train_test_split\n",
    "X_train, X_test, y_train, y_test = train_test_split(data, attrition, test_size = 0.2)"
   ]
  },
  {
   "cell_type": "code",
   "execution_count": null,
   "metadata": {
    "scrolled": true
   },
   "outputs": [],
   "source": [
    "def ANN_Classifier():\n",
    "    cl = Sequential()\n",
    "    cl.add(Dense(20, activation='relu', kernel_initializer='random_normal',  input_shape=(data.shape[1],)))\n",
    "    cl.add(Dropout(0.1))\n",
    "    cl.add(Dense(1, activation='sigmoid', kernel_initializer='random_normal'))\n",
    "    \n",
    "    adm = Adam()\n",
    "    \n",
    "    cl.compile(optimizer=adm, loss='binary_crossentropy', metrics=['accuracy'])\n",
    "    return cl\n",
    "\n",
    "ann = KerasClassifier(build_fn=ANN_Classifier, batch_size=100, epochs=150, verbose=0)\n",
    "#ann_accuracy = cross_val_score(ann, data, attrition, cv=20)"
   ]
  },
  {
   "cell_type": "code",
   "execution_count": null,
   "metadata": {},
   "outputs": [],
   "source": [
    "# Compile model\n",
    "#ann.compile(loss='binary_crossentropy', optimizer='adam', metrics=['accuracy'])\n",
    "# Fit the model\n",
    "history = ann.fit(X_train, y_train, validation_split=0.33, epochs=150, batch_size=10, verbose=1)"
   ]
  },
  {
   "cell_type": "code",
   "execution_count": null,
   "metadata": {},
   "outputs": [],
   "source": [
    "# evaluate the model\n",
    "    #_, train_acc = ann.evaluate(X_train, y_train, verbose=0)\n",
    "    #_, test_acc = ann.evaluate(X_test, y_test, verbose=0)\n",
    "    #print('Train: %.3f, Test: %.3f' % (train_acc, test_acc))\n",
    "\n",
    "# plot loss during training\n",
    "from matplotlib import pyplot\n",
    "pyplot.figure(figsize=(10,5))\n",
    "pyplot.title('Loss')\n",
    "pyplot.plot(history.history['loss'], label='train')\n",
    "pyplot.plot(history.history['val_loss'], label='test')\n",
    "pyplot.legend()\n"
   ]
  },
  {
   "cell_type": "code",
   "execution_count": null,
   "metadata": {
    "scrolled": true
   },
   "outputs": [],
   "source": [
    "pyplot.figure(figsize=(10,5))\n",
    "pyplot.title('Accuracy')\n",
    "pyplot.plot(history.history['accuracy'], label='train')\n",
    "pyplot.plot(history.history['val_accuracy'], label='test')\n",
    "pyplot.legend()"
   ]
  },
  {
   "cell_type": "code",
   "execution_count": null,
   "metadata": {},
   "outputs": [],
   "source": [
    "testX = X_test\n",
    "testY= y_test\n",
    "\n",
    "model = KerasClassifier(build_fn=ANN_Classifier, batch_size=100, epochs=150, verbose=0)\n",
    "model.fit(X_train, y_train, validation_split=0.33, epochs=20, batch_size=10, verbose=1)"
   ]
  },
  {
   "cell_type": "code",
   "execution_count": null,
   "metadata": {},
   "outputs": [],
   "source": [
    "from sklearn.datasets import make_circles\n",
    "from sklearn.metrics import accuracy_score\n",
    "from sklearn.metrics import precision_score\n",
    "from sklearn.metrics import recall_score\n",
    "from sklearn.metrics import f1_score\n",
    "from sklearn.metrics import cohen_kappa_score\n",
    "from sklearn.metrics import roc_auc_score\n",
    "from sklearn.metrics import confusion_matrix\n",
    " \n",
    "testy = testY\n",
    "# predict probabilities for test set\n",
    "yhat_probs = model.predict_proba(testX, verbose=0)\n",
    "# predict crisp classes for test set\n",
    "yhat_classes = model.predict(testX, verbose=0)\n",
    "\n",
    "yhat_probs = yhat_probs[:, 0]\n",
    "yhat_classes = yhat_classes[:, 0]\n",
    "\n",
    "\n",
    "# accuracy: (tp + tn) / (p + n)\n",
    "accuracy = accuracy_score(testy, yhat_classes)\n",
    "print('Accuracy: %f' % accuracy)\n",
    "# precision tp / (tp + fp)\n",
    "precision = precision_score(testy, yhat_classes)\n",
    "print('Precision: %f' % precision)\n",
    "# recall: tp / (tp + fn)\n",
    "recall = recall_score(testy, yhat_classes)\n",
    "print('Recall: %f' % recall)\n",
    "# f1: 2 tp / (2 tp + fp + fn)\n",
    "f1 = f1_score(testy, yhat_classes)\n",
    "print('F1 score: %f' % f1)\n",
    "\n",
    "# accuracy: (tp + tn) / (p + n)\n",
    "accuracy = accuracy_score(testy, yhat_classes)\n",
    "print('Accuracy: %f' % accuracy)\n",
    "# precision tp / (tp + fp)\n",
    "precision = precision_score(testy, yhat_classes)\n",
    "print('Precision: %f' % precision)\n",
    "# recall: tp / (tp + fn)\n",
    "recall = recall_score(testy, yhat_classes)\n",
    "print('Recall: %f' % recall)\n",
    "# f1: 2 tp / (2 tp + fp + fn)\n",
    "f1 = f1_score(testy, yhat_classes)\n",
    "print('F1 score: %f' % f1)"
   ]
  },
  {
   "cell_type": "code",
   "execution_count": null,
   "metadata": {},
   "outputs": [],
   "source": [
    "column= 'traveling'\n",
    "values = \"high\", \"medium\", \"low\", \"lowest\"\n",
    "labelEncoding = 4, 3, 2, 1\n",
    "\n",
    "One hot encoding :\n",
    "    traveling -> h, m , l ,lowest\n",
    "    values - > 1, 0, 0, 0\n",
    "                0, 1, 0, 0\n",
    "\n",
    "\n"
   ]
  }
 ],
 "metadata": {
  "kernelspec": {
   "display_name": "Python 3",
   "language": "python",
   "name": "python3"
  },
  "language_info": {
   "codemirror_mode": {
    "name": "ipython",
    "version": 3
   },
   "file_extension": ".py",
   "mimetype": "text/x-python",
   "name": "python",
   "nbconvert_exporter": "python",
   "pygments_lexer": "ipython3",
   "version": "3.7.3"
  }
 },
 "nbformat": 4,
 "nbformat_minor": 4
}
